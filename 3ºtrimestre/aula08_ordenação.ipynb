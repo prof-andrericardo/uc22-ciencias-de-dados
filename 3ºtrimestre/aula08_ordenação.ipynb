{
 "cells": [
  {
   "cell_type": "markdown",
   "id": "2eb8e87a",
   "metadata": {},
   "source": [
    "\n",
    "# 📘 UC22 – Aula 8 — Ordenação com `sort_values()` (Pandas)\n",
    "\n",
    "![Python](https://img.shields.io/badge/Python-3.11+-blue?logo=python)\n",
    "![Pandas](https://img.shields.io/badge/Pandas-sort_values-green?logo=pandas)\n",
    "![Google Colab](https://img.shields.io/badge/Google%20Colab-Notebook-yellow?logo=googlecolab)\n",
    "![Tempo](https://img.shields.io/badge/Dura%C3%A7%C3%A3o-90%20min-red)\n",
    "![N%C3%ADvel](https://img.shields.io/badge/N%C3%ADvel-Iniciante%E2%9E%9CIntermedi%C3%81rio-purple)\n",
    "\n",
    "**Turma:** 3º Ano – Ensino Médio Técnico em Informática  \n",
    "**Tema:** Ordenação de dados em DataFrames com Pandas  \n",
    "**Ferramenta principal:** Google Colab\n",
    "\n",
    "> “Ordenar dados é como organizar a mochila: só quando tudo está no lugar certo conseguimos enxergar o que importa.” – IAra 🎒\n"
   ]
  },
  {
   "cell_type": "markdown",
   "id": "16bc13c8",
   "metadata": {},
   "source": [
    "\n",
    "## 🎯 Objetivos de Aprendizagem\n",
    "- Usar `sort_values()` para ordenar **linhas**.  \n",
    "- Ordenar de forma **crescente** e **decrescente**.  \n",
    "- Ordenar por **uma** ou **múltiplas colunas** com critérios de desempate.  \n",
    "- Aplicar ordenação em números e textos.  \n",
    "- Combinar ordenação com seleção, filtros e agrupamentos.\n"
   ]
  },
  {
   "cell_type": "markdown",
   "id": "c82f5ba4",
   "metadata": {},
   "source": [
    "\n",
    "## 📂 Preparação do Ambiente (Google Drive)\n",
    "Usaremos os mesmos arquivos das aulas anteriores em **`Meu Drive/UC22/`**:\n",
    "\n",
    "- `pokemons_pokedex.csv`  \n",
    "- `escolas_estaduais_censo_escolar_2023.csv`\n"
   ]
  },
  {
   "cell_type": "code",
   "execution_count": null,
   "id": "7e5324a0",
   "metadata": {},
   "outputs": [],
   "source": [
    "\n",
    "# 📂 Montando o Google Drive\n",
    "from google.colab import drive\n",
    "drive.mount('/content/drive')\n",
    "\n",
    "# 🐍 Importações essenciais\n",
    "import pandas as pd\n",
    "\n",
    "# 🗂️ Definição dos caminhos (ajuste conforme sua pasta)\n",
    "caminho_poke = \"/content/drive/MyDrive/UC22/pokemons_pokedex.csv\"\n",
    "caminho_escolas = \"/content/drive/MyDrive/UC22/escolas_estaduais_censo_escolar_2023.csv\"\n",
    "\n",
    "# 📥 Leitura dos datasets\n",
    "# 1) Pokémon com UTF-8 (padrão)\n",
    "# 2) Escolas com Latin-1 (acentos)\n",
    "df_poke = pd.read_csv(caminho_poke, encoding=\"utf-8\")\n",
    "df_escolas = pd.read_csv(caminho_escolas, encoding=\"latin-1\", sep=\",\")\n",
    "\n",
    "# 🧹 Padronização de nomes de colunas (minúsculas, snake_case)\n",
    "df_poke.columns    = df_poke.columns.str.strip().str.lower().str.replace(\" \", \"_\", regex=False)\n",
    "df_escolas.columns = df_escolas.columns.str.strip().str.lower().str.replace(\" \", \"_\", regex=False)\n",
    "\n",
    "# 🔤 Padronização opcional (facilita filtros e contagens)\n",
    "if \"no_municipio\" in df_escolas.columns:\n",
    "    df_escolas[\"no_municipio\"] = df_escolas[\"no_municipio\"].astype(str).str.strip().str.upper()\n",
    "\n",
    "print(\"✅ Pokémon:\", df_poke.shape, \" | colunas:\", len(df_poke.columns))\n",
    "print(\"✅ Escolas:\", df_escolas.shape, \" | colunas:\", len(df_escolas.columns))\n",
    "\n",
    "# 👀 Conferir primeiras colunas\n",
    "list(df_poke.columns)[:15]\n"
   ]
  },
  {
   "cell_type": "markdown",
   "id": "52e91108",
   "metadata": {},
   "source": [
    "\n",
    "## 1) Conceito de ordenação com `sort_values()`\n",
    "`sort_values(by=...)` **reordena as linhas** do DataFrame de acordo com uma ou mais colunas.\n",
    "\n",
    "**Sintaxe básica:**\n",
    "```python\n",
    "df.sort_values(by=\"coluna\", ascending=True)  # crescente (padrão)\n",
    "df.sort_values(by=\"coluna\", ascending=False) # decrescente\n",
    "```\n"
   ]
  },
  {
   "cell_type": "markdown",
   "id": "77503821",
   "metadata": {},
   "source": [
    "\n",
    "## 2) Ordenação por **uma** coluna\n"
   ]
  },
  {
   "cell_type": "code",
   "execution_count": null,
   "id": "7624ab44",
   "metadata": {},
   "outputs": [],
   "source": [
    "\n",
    "# 🎯 Top 10 Pokémon mais rápidos\n",
    "# Passo a passo:\n",
    "# 1) Ordenamos por 'speed' em ordem decrescente (maiores primeiro).\n",
    "# 2) Selecionamos colunas essenciais para leitura.\n",
    "# 3) Pegamos as 10 primeiras linhas com .head(10).\n",
    "\n",
    "top_speed = (\n",
    "    df_poke.sort_values(by=\"speed\", ascending=False)[[\"name\",\"type_1\",\"speed\"]]\n",
    "            .head(10)\n",
    ")\n",
    "top_speed\n"
   ]
  },
  {
   "cell_type": "markdown",
   "id": "7d5f5eb3",
   "metadata": {},
   "source": [
    "\n",
    "## 3) Ordenação por **múltiplas** colunas (com desempate)\n"
   ]
  },
  {
   "cell_type": "code",
   "execution_count": null,
   "id": "36310ef0",
   "metadata": {},
   "outputs": [],
   "source": [
    "\n",
    "# 🎯 Ordenar primeiro por 'type_1' (A→Z), depois por 'attack' (desc)\n",
    "# Comentários:\n",
    "# - Quando há empate em 'type_1', 'attack' decide a ordem.\n",
    "# - 'ascending' aceita lista com o mesmo comprimento de 'by'.\n",
    "\n",
    "por_tipo_ataque = (\n",
    "    df_poke.sort_values(by=[\"type_1\",\"attack\"], ascending=[True, False])\n",
    "           [[\"name\",\"type_1\",\"attack\"]]\n",
    "           .head(15)\n",
    ")\n",
    "por_tipo_ataque\n"
   ]
  },
  {
   "cell_type": "markdown",
   "id": "d68731e5",
   "metadata": {},
   "source": [
    "\n",
    "## 4) Critérios de desempate explícitos\n"
   ]
  },
  {
   "cell_type": "code",
   "execution_count": null,
   "id": "676ad3c4",
   "metadata": {},
   "outputs": [],
   "source": [
    "\n",
    "# 🎯 Empate por 'attack' resolvido com 'speed' (ambos desc)\n",
    "desempate = (\n",
    "    df_poke.sort_values(by=[\"attack\",\"speed\"], ascending=[False, False])\n",
    "           [[\"name\",\"attack\",\"speed\"]]\n",
    "           .head(15)\n",
    ")\n",
    "desempate\n"
   ]
  },
  {
   "cell_type": "markdown",
   "id": "80ccc2b2",
   "metadata": {},
   "source": [
    "\n",
    "## 5) Ordenando textos (strings)\n"
   ]
  },
  {
   "cell_type": "code",
   "execution_count": null,
   "id": "e5006299",
   "metadata": {},
   "outputs": [],
   "source": [
    "\n",
    "# 🎯 Primeiros Pokémon em ordem alfabética\n",
    "alfabetica = (\n",
    "    df_poke.sort_values(by=\"name\", ascending=True)[[\"name\",\"type_1\",\"attack\"]]\n",
    "           .head(15)\n",
    ")\n",
    "alfabetica\n"
   ]
  },
  {
   "cell_type": "markdown",
   "id": "ebbb026f",
   "metadata": {},
   "source": [
    "\n",
    "## 6) Aplicando ordenação no dataset de Escolas\n"
   ]
  },
  {
   "cell_type": "code",
   "execution_count": null,
   "id": "c6c8addd",
   "metadata": {},
   "outputs": [],
   "source": [
    "\n",
    "# 🎯 Top 10 municípios com maior quantidade de escolas\n",
    "# Estratégia:\n",
    "# 1) Contar ocorrências de cada município (value_counts).\n",
    "# 2) Ordenar em ordem decrescente (maiores primeiro).\n",
    "# 3) Mostrar os 10 primeiros.\n",
    "\n",
    "top10_municipios = (\n",
    "    df_escolas[\"no_municipio\"].value_counts()\n",
    "               .sort_values(ascending=False)\n",
    "               .head(10)\n",
    ")\n",
    "top10_municipios\n"
   ]
  },
  {
   "cell_type": "markdown",
   "id": "0248f2ee",
   "metadata": {},
   "source": [
    "\n",
    "## 7) (Opcional) Visualizando um ranking simples\n"
   ]
  },
  {
   "cell_type": "code",
   "execution_count": null,
   "id": "1536da69",
   "metadata": {},
   "outputs": [],
   "source": [
    "\n",
    "# 📈 Gráfico simples (sem estilos) — Top 10 velocidades\n",
    "# Regras do curso: usar matplotlib, um gráfico por vez, sem definir cores.\n",
    "\n",
    "import matplotlib.pyplot as plt\n",
    "\n",
    "top10_speed = df_poke.sort_values(by=\"speed\", ascending=False).head(10)\n",
    "\n",
    "plt.figure(figsize=(8,4))\n",
    "plt.bar(top10_speed[\"name\"], top10_speed[\"speed\"])\n",
    "plt.title(\"Top 10 Pokémon por Velocidade\")\n",
    "plt.xlabel(\"Pokémon\")\n",
    "plt.ylabel(\"Speed\")\n",
    "plt.xticks(rotation=45, ha=\"right\")\n",
    "plt.tight_layout()\n",
    "plt.show()\n"
   ]
  },
  {
   "cell_type": "markdown",
   "id": "4bd904d1",
   "metadata": {},
   "source": [
    "\n",
    "## ✅ Checklist — Hoje você aprendeu\n",
    "- Ordenar por **uma** coluna (crescente/decrescente).  \n",
    "- Ordenar por **múltiplas** colunas com critérios de desempate.  \n",
    "- Ordenar **strings** alfabeticamente.  \n",
    "- Aplicar ordenação em **datasets diferentes** (Pokémon e Escolas).\n"
   ]
  },
  {
   "cell_type": "markdown",
   "id": "93251b4d",
   "metadata": {},
   "source": [
    "\n",
    "## 🧪 Mini-Lab (entregar no Classroom)\n",
    "**Arquivo:** `UC22_Aula08_Pratica_SeuNome.ipynb`\n",
    "\n",
    "### Parte 1 — Pokémon\n",
    "1. Liste os **10 Pokémon com maior `attack`**.  \n",
    "2. Mostre os **10 Pokémon com maior `defense`** (ordem decrescente).  \n",
    "3. Liste os **15 Pokémon mais rápidos** com `name`, `type_1`, `speed`.  \n",
    "4. Ordene todos os Pokémon por `type_1` (A–Z) **e** `hp` (desc).\n",
    "\n",
    "### Parte 2 — Escolas\n",
    "1. Ordene alfabeticamente os nomes das escolas (`no_entidade`) e mostre os **20 primeiros**.  \n",
    "2. Descubra os **10 municípios com mais escolas** e exiba em ordem decrescente.\n",
    "\n",
    "> **Dica:** sempre confira `df.columns` antes de ordenar.\n"
   ]
  },
  {
   "cell_type": "markdown",
   "id": "e14119bb",
   "metadata": {},
   "source": [
    "\n",
    "### 📝 Espaço para suas respostas (execute os blocos e comente seus achados)\n"
   ]
  },
  {
   "cell_type": "code",
   "execution_count": null,
   "id": "978103a3",
   "metadata": {},
   "outputs": [],
   "source": [
    "\n",
    "# 🔧 Resposta Pokémon 1 — Top 10 por attack\n",
    "resp1 = df_poke.sort_values(by=\"attack\", ascending=False)[[\"name\",\"type_1\",\"attack\"]].head(10)\n",
    "resp1\n"
   ]
  },
  {
   "cell_type": "code",
   "execution_count": null,
   "id": "7e095838",
   "metadata": {},
   "outputs": [],
   "source": [
    "\n",
    "# 🔧 Resposta Pokémon 2 — Top 10 por defense (decrescente)\n",
    "resp2 = df_poke.sort_values(by=\"defense\", ascending=False)[[\"name\",\"type_1\",\"defense\"]].head(10)\n",
    "resp2\n"
   ]
  },
  {
   "cell_type": "code",
   "execution_count": null,
   "id": "21e974d2",
   "metadata": {},
   "outputs": [],
   "source": [
    "\n",
    "# 🔧 Resposta Pokémon 3 — Top 15 por speed\n",
    "resp3 = df_poke.sort_values(by=\"speed\", ascending=False)[[\"name\",\"type_1\",\"speed\"]].head(15)\n",
    "resp3\n"
   ]
  },
  {
   "cell_type": "code",
   "execution_count": null,
   "id": "d272cdd0",
   "metadata": {},
   "outputs": [],
   "source": [
    "\n",
    "# 🔧 Resposta Pokémon 4 — Ordenar por type_1 (A–Z) e hp (desc)\n",
    "resp4 = df_poke.sort_values(by=[\"type_1\",\"hp\"], ascending=[True, False])[[\"name\",\"type_1\",\"hp\"]]\n",
    "resp4.head(20)\n"
   ]
  },
  {
   "cell_type": "code",
   "execution_count": null,
   "id": "ef51bd09",
   "metadata": {},
   "outputs": [],
   "source": [
    "\n",
    "# 🔧 Resposta Escolas 1 — no_entidade em ordem alfabética (20 primeiros)\n",
    "if \"no_entidade\" in df_escolas.columns:\n",
    "    resp_escolas1 = df_escolas.sort_values(by=\"no_entidade\", ascending=True)[[\"no_entidade\"]].head(20)\n",
    "    resp_escolas1\n",
    "else:\n",
    "    print(\"⚠️ Coluna 'no_entidade' não encontrada em df_escolas.\")\n"
   ]
  },
  {
   "cell_type": "code",
   "execution_count": null,
   "id": "1e396604",
   "metadata": {},
   "outputs": [],
   "source": [
    "\n",
    "# 🔧 Resposta Escolas 2 — Top 10 municípios por número de escolas (desc)\n",
    "if \"no_municipio\" in df_escolas.columns:\n",
    "    resp_escolas2 = (\n",
    "        df_escolas[\"no_municipio\"].value_counts()\n",
    "                 .sort_values(ascending=False)\n",
    "                 .head(10)\n",
    "    )\n",
    "    resp_escolas2\n",
    "else:\n",
    "    print(\"⚠️ Coluna 'no_municipio' não encontrada em df_escolas.\")\n"
   ]
  },
  {
   "cell_type": "markdown",
   "id": "bc08c125",
   "metadata": {},
   "source": [
    "\n",
    "## 🧯 Erros Comuns e Dicas\n",
    "- **Coluna não encontrada**: confira com `df.columns`.  \n",
    "- **Números como texto**: converta com `pd.to_numeric(col, errors=\"coerce\")`.  \n",
    "- **Alterar o DataFrame original**: `inplace=True` modifica a tabela; prefira atribuir a uma variável.  \n",
    "- **Empates**: adicione mais colunas em `by=[\"col1\",\"col2\"]` para desempatar.\n"
   ]
  },
  {
   "cell_type": "markdown",
   "id": "590f1e74",
   "metadata": {},
   "source": [
    "\n",
    "## 📎 Conclusão\n",
    "Você aprendeu a **ordenar** dados com `sort_values()` e a construir **rankings** úteis para análise.  \n",
    "No próximo encontro, vamos **visualizar** essas informações com **Matplotlib** para criar gráficos claros e objetivos.\n"
   ]
  },
  {
   "cell_type": "markdown",
   "id": "773e96f6",
   "metadata": {},
   "source": [
    "\n",
    "---\n",
    "*Notebook gerado em: 2025-09-12 13:24:11*\n"
   ]
  }
 ],
 "metadata": {
  "language_info": {
   "name": "python"
  }
 },
 "nbformat": 4,
 "nbformat_minor": 5
}
