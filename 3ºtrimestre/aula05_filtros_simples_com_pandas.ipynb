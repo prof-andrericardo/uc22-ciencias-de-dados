{
 "cells": [
  {
   "cell_type": "markdown",
   "id": "a9a29fac",
   "metadata": {},
   "source": [
    "\n",
    "# 📘 UC22 – Aula 5 — Filtros Simples (Pandas)\n",
    "\n",
    "![Python](https://img.shields.io/badge/Python-3.11+-blue?logo=python)\n",
    "![Pandas](https://img.shields.io/badge/Pandas-Filtros-green?logo=pandas)\n",
    "![Google Colab](https://img.shields.io/badge/Google%20Colab-Notebook-yellow?logo=googlecolab)\n",
    "![Tempo](https://img.shields.io/badge/Dura%C3%A7%C3%A3o-90%20min-red)\n",
    "![N%C3%ADvel](https://img.shields.io/badge/N%C3%ADvel-Iniciante%E2%9E%9CIntermedi%C3%A1rio-purple)\n",
    "\n",
    "**Turma:** 3º Ano – Ensino Médio Técnico em Informática  \n",
    "**Tema:** Filtros Simples em DataFrames Pandas  \n",
    "**Ferramenta principal:** Google Colab\n",
    "\n",
    "> “Filtrar dados é como procurar Pokémon raros: você precisa dos critérios certos para encontrá-los.” – IAra 🎯\n"
   ]
  },
  {
   "cell_type": "markdown",
   "id": "b0e452ba",
   "metadata": {},
   "source": [
    "\n",
    "## 🎯 Objetivos de Aprendizagem\n",
    "- Aplicar **filtros simples** em DataFrames usando operadores de comparação (`==`, `!=`, `>`, `<`, `>=`, `<=`).  \n",
    "- Diferenciar **condição booleana** do **resultado filtrado**.  \n",
    "- Combinar **filtro de linhas** com **seleção de colunas**.  \n",
    "- Praticar com o dataset **`pokemons_pokedex.csv`** (e, quando útil, com **`escolas_estaduais_censo_escolar_2023.csv`**).  \n",
    "- Preparar-se para a **Aula 6 (filtros compostos)**.\n"
   ]
  },
  {
   "cell_type": "markdown",
   "id": "1af9a9ea",
   "metadata": {},
   "source": [
    "\n",
    "## 📂 Preparação do Ambiente (Google Drive)\n",
    "Usaremos os mesmos arquivos das aulas anteriores:\n",
    "\n",
    "- `pokemons_pokedex.csv`  \n",
    "- `escolas_estaduais_censo_escolar_2023.csv`\n",
    "\n",
    "> **Importante:** mantenha os arquivos na pasta **`Meu Drive/UC22/`**.\n"
   ]
  },
  {
   "cell_type": "code",
   "execution_count": null,
   "id": "edcf080c",
   "metadata": {},
   "outputs": [],
   "source": [
    "\n",
    "# 📂 Montando o Google Drive\n",
    "from google.colab import drive\n",
    "drive.mount('/content/drive')\n",
    "\n",
    "# 🐍 Importações essenciais\n",
    "import pandas as pd\n",
    "\n",
    "# 🗂️ Definição dos caminhos (ajuste conforme sua pasta)\n",
    "caminho_poke = \"/content/drive/MyDrive/UC22/pokemons_pokedex.csv\"\n",
    "caminho_escolas = \"/content/drive/MyDrive/UC22/escolas_estaduais_censo_escolar_2023.csv\"\n",
    "\n",
    "# 📥 Leitura dos datasets com codificação apropriada\n",
    "# Linha a linha:\n",
    "# 1) Lemos o CSV de Pokémon com UTF-8 (padrão mais comum)\n",
    "# 2) Lemos o CSV de Escolas com Latin-1 (evita problemas de acentuação)\n",
    "df_poke = pd.read_csv(caminho_poke, encoding=\"utf-8\")\n",
    "df_escolas = pd.read_csv(caminho_escolas, encoding=\"latin-1\", sep=\",\")\n",
    "\n",
    "# 🧹 Padronização de nomes de colunas (minúsculas, sem espaços)\n",
    "# Isso evita erros por diferença de maiúsculas/minúsculas e espaços\n",
    "df_poke.columns    = df_poke.columns.str.strip().str.lower().str.replace(\" \", \"_\", regex=False)\n",
    "df_escolas.columns = df_escolas.columns.str.strip().str.lower().str.replace(\" \", \"_\", regex=False)\n",
    "\n",
    "# ✨ Ajuste de legibilidade: município em Title Case (se a coluna existir)\n",
    "if \"no_municipio\" in df_escolas.columns:\n",
    "    df_escolas[\"no_municipio\"] = df_escolas[\"no_municipio\"].astype(str).str.strip().str.upper()\n",
    "\n",
    "print(\"✅ Pokémon:\", df_poke.shape, \" | colunas:\", len(df_poke.columns))\n",
    "print(\"✅ Escolas:\", df_escolas.shape, \" | colunas:\", len(df_escolas.columns))\n"
   ]
  },
  {
   "cell_type": "markdown",
   "id": "d1c824c3",
   "metadata": {},
   "source": [
    "\n",
    "## 🧠 Revisão Rápida (Aula 4 → Aula 5)\n",
    "- **Seleção de colunas**: `df['col']` (Series) e `df[['col1','col2']]` (DataFrame).  \n",
    "- **Aula de hoje**: **filtrar linhas** com base em **condições**.\n"
   ]
  },
  {
   "cell_type": "markdown",
   "id": "a4e7240a",
   "metadata": {},
   "source": [
    "\n",
    "## 1) Conceito de Filtro Simples\n",
    "Um **filtro simples** seleciona as linhas que **atendem a uma condição**.\n",
    "\n",
    "Operadores principais:\n",
    "- `==` (igual), `!=` (diferente)  \n",
    "- `>` (maior que), `<` (menor que)  \n",
    "- `>=` (maior/igual), `<=` (menor/igual)\n"
   ]
  },
  {
   "cell_type": "code",
   "execution_count": null,
   "id": "3e9b8041",
   "metadata": {},
   "outputs": [],
   "source": [
    "\n",
    "# 🎯 Exemplo 1 — Filtrar Pokémon do tipo \"Fire\"\n",
    "# Passo a passo:\n",
    "# 1) `df_poke['type_1'] == 'Fire'` cria uma Série booleana (True/False) para cada linha.\n",
    "# 2) Usamos essa Série booleana entre colchetes para retornar somente as linhas True.\n",
    "\n",
    "# 🔎 Verifique o nome exato da coluna de tipo principal (ex.: 'type_1' ou 'tipo_1')\n",
    "print(\"Colunas disponíveis no df_poke:\", list(df_poke.columns)[:15])\n",
    "\n",
    "# ✅ Filtro: todos os Pokémon com type_1 == 'Fire'\n",
    "fogo = df_poke[df_poke['type_1'] == 'Fire']\n",
    "print(\"Quantidade de Pokémon do tipo Fogo:\", fogo.shape[0])\n",
    "fogo[['name','type_1','attack','defense','speed']].head(10)\n"
   ]
  },
  {
   "cell_type": "code",
   "execution_count": null,
   "id": "12a2a859",
   "metadata": {},
   "outputs": [],
   "source": [
    "\n",
    "# 🎯 Exemplo 2 — Filtrar por atributo numérico (Attack > 100)\n",
    "# 1) Criamos a condição booleana: df_poke['attack'] > 100\n",
    "# 2) Aplicamos a condição ao DataFrame para retornar apenas as linhas que atendem\n",
    "\n",
    "ataque_alto = df_poke[df_poke['attack'] > 100]\n",
    "print(\"Quantidade com Attack > 100:\", ataque_alto.shape[0])\n",
    "\n",
    "# 🔍 Mostramos apenas colunas relevantes para análise inicial\n",
    "ataque_alto[['name','type_1','attack','defense','speed']].head(10)\n"
   ]
  },
  {
   "cell_type": "code",
   "execution_count": null,
   "id": "57f9c010",
   "metadata": {},
   "outputs": [],
   "source": [
    "\n",
    "# 🎯 Exemplo 3 — Filtrar escolas por município\n",
    "# Observação: padronizamos 'no_municipio' em UPPERCASE para consistência acima\n",
    "# Então buscamos por 'SÃO PAULO' em maiúsculas\n",
    "\n",
    "if \"no_municipio\" in df_escolas.columns:\n",
    "    sp = df_escolas[df_escolas['no_municipio'] == 'SÃO PAULO']\n",
    "    print(\"Escolas em SÃO PAULO:\", sp.shape[0])\n",
    "    sp[['no_entidade','no_municipio']].sample(5, random_state=42)\n",
    "else:\n",
    "    print(\"A coluna 'no_municipio' não está presente no df_escolas. Verifique df_escolas.columns\")\n"
   ]
  },
  {
   "cell_type": "markdown",
   "id": "dd9c8e4d",
   "metadata": {},
   "source": [
    "\n",
    "## 2) Usando `.query()` como alternativa\n",
    "`.query()` permite escrever condições em **string**, deixando o código mais limpo/legível, parecido com SQL.\n"
   ]
  },
  {
   "cell_type": "code",
   "execution_count": null,
   "id": "b27638fc",
   "metadata": {},
   "outputs": [],
   "source": [
    "\n",
    "# 🎯 Exemplo 4 — Usando query para filtrar Water\n",
    "# 1) Escrevemos a condição como texto: \"type_1 == 'Water'\"\n",
    "# 2) O Pandas interpreta a expressão e aplica o filtro\n",
    "\n",
    "agua = df_poke.query(\"type_1 == 'Water'\")\n",
    "print(\"Pokémon do tipo Água:\", agua.shape[0])\n",
    "agua[['name','type_1','attack','defense','speed']].head(10)\n"
   ]
  },
  {
   "cell_type": "markdown",
   "id": "a0904325",
   "metadata": {},
   "source": [
    "\n",
    "## 3) Filtro + Seleção de Colunas\n",
    "Geralmente filtramos e **mostramos apenas algumas colunas** relevantes para responder perguntas.\n"
   ]
  },
  {
   "cell_type": "code",
   "execution_count": null,
   "id": "878f6646",
   "metadata": {},
   "outputs": [],
   "source": [
    "\n",
    "# 🎯 Exemplo 5 — Pokémon muito rápidos (Speed > 120)\n",
    "# 1) Filtramos linhas com base em Speed\n",
    "# 2) Selecionamos colunas-chave: name, type_1, speed\n",
    "\n",
    "rapidos = df_poke[df_poke['speed'] > 120][['name','type_1','speed']]\n",
    "print(\"Quantidade de Pokémon com Speed > 120:\", rapidos.shape[0])\n",
    "rapidos.head(10)\n"
   ]
  },
  {
   "cell_type": "markdown",
   "id": "6c4d3c96",
   "metadata": {},
   "source": [
    "\n",
    "## ✅ Mini-Lab (entregar no Classroom)\n",
    "**Arquivo:** `UC22_Aula05_Pratica_SeuNome.ipynb`\n",
    "\n",
    "### Parte 1 — Pokémon\n",
    "1. Quantos Pokémon são do tipo **Electric**?  \n",
    "2. Mostre apenas `name`, `type_1`, `attack` dos Pokémon com **Attack > 120**.  \n",
    "3. Quantos Pokémon possuem **HP < 50**?  \n",
    "\n",
    "### Parte 2 — Escolas\n",
    "1. Quantas escolas estão em **CAMPINAS**?  \n",
    "2. Liste `no_entidade` e `no_municipio` das escolas de **SANTOS**.\n",
    "\n",
    "> **Dica:** Lembre-se que padronizamos `no_municipio` para **maiúsculas**.\n"
   ]
  },
  {
   "cell_type": "markdown",
   "id": "684be2b3",
   "metadata": {},
   "source": [
    "\n",
    "### 📝 Espaço para suas respostas (execute os blocos e comente seus achados)\n"
   ]
  },
  {
   "cell_type": "code",
   "execution_count": null,
   "id": "7006c56d",
   "metadata": {},
   "outputs": [],
   "source": [
    "\n",
    "# 🔧 Resposta Pokémon 1 — Contagem Electric\n",
    "# PASSO A PASSO:\n",
    "# 1) Criamos a condição booleana para type_1 == 'Electric'\n",
    "# 2) Aplicamos ao DataFrame\n",
    "# 3) Usamos .shape[0] para contar linhas\n",
    "electric = df_poke[df_poke['type_1'] == 'Electric']\n",
    "print(\"Total Electric:\", electric.shape[0])\n",
    "electric.head()\n"
   ]
  },
  {
   "cell_type": "code",
   "execution_count": null,
   "id": "83cd5ad2",
   "metadata": {},
   "outputs": [],
   "source": [
    "\n",
    "# 🔧 Resposta Pokémon 2 — Attack > 120 (mostrar colunas selecionadas)\n",
    "ataque_120 = df_poke[df_poke['attack'] > 120][['name','type_1','attack']]\n",
    "print(\"Total Attack > 120:\", ataque_120.shape[0])\n",
    "ataque_120.head(10)\n"
   ]
  },
  {
   "cell_type": "code",
   "execution_count": null,
   "id": "0a024b48",
   "metadata": {},
   "outputs": [],
   "source": [
    "\n",
    "# 🔧 Resposta Pokémon 3 — HP < 50 (apenas contagem)\n",
    "hp_baixo = df_poke[df_poke['hp'] < 50]\n",
    "print(\"Total HP < 50:\", hp_baixo.shape[0])\n",
    "hp_baixo[['name','type_1','hp']].head(10)\n"
   ]
  },
  {
   "cell_type": "code",
   "execution_count": null,
   "id": "89bc07fb",
   "metadata": {},
   "outputs": [],
   "source": [
    "\n",
    "# 🔧 Resposta Escolas 1 — CAMPINAS (contagem)\n",
    "if \"no_municipio\" in df_escolas.columns:\n",
    "    campinas = df_escolas[df_escolas['no_municipio'] == 'CAMPINAS']\n",
    "    print(\"Escolas em CAMPINAS:\", campinas.shape[0])\n",
    "else:\n",
    "    print(\"Coluna 'no_municipio' ausente em df_escolas\")\n"
   ]
  },
  {
   "cell_type": "code",
   "execution_count": null,
   "id": "1567a5e9",
   "metadata": {},
   "outputs": [],
   "source": [
    "\n",
    "# 🔧 Resposta Escolas 2 — SANTOS (listar duas colunas)\n",
    "if \"no_municipio\" in df_escolas.columns and \"no_entidade\" in df_escolas.columns:\n",
    "    santos = df_escolas[df_escolas['no_municipio'] == 'SANTOS'][['no_entidade','no_municipio']]\n",
    "    print(\"Escolas em SANTOS:\", santos.shape[0])\n",
    "    santos.head(10)\n",
    "else:\n",
    "    print(\"Verifique as colunas de df_escolas com df_escolas.columns\")\n"
   ]
  },
  {
   "cell_type": "markdown",
   "id": "dffaa826",
   "metadata": {},
   "source": [
    "\n",
    "## 🧯 Erros Comuns e Dicas\n",
    "- **`KeyError`**: coluna não existe → confira `df.columns`.  \n",
    "- **Sensibilidade a maiúsculas/minúsculas**: `'Fire'` ≠ `'fire'`.  \n",
    "- **Filtro vazio**: às vezes nenhuma linha atende à condição. Isso **não é erro**.  \n",
    "- **Tipos de dados**: números armazenados como texto podem atrapalhar comparações — use `pd.to_numeric()` se necessário.\n"
   ]
  },
  {
   "cell_type": "markdown",
   "id": "8ba16685",
   "metadata": {},
   "source": [
    "\n",
    "## 📎 Conclusão\n",
    "Hoje você praticou **filtros simples** para responder perguntas objetivas com Pandas.  \n",
    "Na **Aula 6**, vamos **combinar condições** (E/OU) para pesquisas mais precisas (ex.: *Água* **E** `Speed > 70` **E** `Defense < 60`).\n"
   ]
  },
  {
   "cell_type": "markdown",
   "id": "65402160",
   "metadata": {},
   "source": [
    "\n",
    "---\n",
    "*Notebook gerado em: 2025-09-12 12:47:49*\n"
   ]
  }
 ],
 "metadata": {
  "language_info": {
   "name": "python"
  }
 },
 "nbformat": 4,
 "nbformat_minor": 5
}
