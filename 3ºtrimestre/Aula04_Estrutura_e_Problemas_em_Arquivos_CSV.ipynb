{
 "cells": [
  {
   "cell_type": "markdown",
   "id": "86e41a14",
   "metadata": {},
   "source": [
    "\n",
    "# 📘 UC22 – Aula 4 — Seleção de Colunas (Pandas) — Versão Alunos\n",
    "\n",
    "**Turma:** 3º Ano – Ensino Médio Técnico em Informática  \n",
    "**Tema:** Seleção de colunas em DataFrames do Pandas  \n",
    "**Ferramenta:** Google Colab  \n",
    "**Duração:** 90 min\n",
    "\n",
    "> Esta aula assume que os arquivos estão no seu **Google Drive → pasta `UC22`**.\n",
    "> Datasets usados: `pokemons_pokedex.csv` (UTF-8) e `escolas_estaduais_censo_escolar_2023.csv` (Latin-1).\n"
   ]
  },
  {
   "cell_type": "markdown",
   "id": "ba3af31b",
   "metadata": {},
   "source": [
    "## 📂 Conectando o Google Drive"
   ]
  },
  {
   "cell_type": "code",
   "execution_count": null,
   "id": "8352e1cf",
   "metadata": {},
   "outputs": [],
   "source": [
    "\n",
    "from google.colab import drive\n",
    "drive.mount('/content/drive')\n",
    "\n",
    "import pandas as pd\n",
    "pd.options.display.max_columns = 60\n"
   ]
  },
  {
   "cell_type": "markdown",
   "id": "22419047",
   "metadata": {},
   "source": [
    "## 📥 Carregando os datasets"
   ]
  },
  {
   "cell_type": "code",
   "execution_count": null,
   "id": "f80a02c1",
   "metadata": {},
   "outputs": [],
   "source": [
    "\n",
    "# Ajuste os caminhos se necessário\n",
    "caminho_poke = \"/content/drive/MyDrive/UC22/pokemons_pokedex.csv\"\n",
    "caminho_escolas = \"/content/drive/MyDrive/UC22/escolas_estaduais_censo_escolar_2023.csv\"\n",
    "\n",
    "df_poke = pd.read_csv(caminho_poke, encoding=\"utf-8\")\n",
    "df_escolas = pd.read_csv(caminho_escolas, encoding=\"latin-1\", sep=\",\")\n",
    "\n",
    "# Padronização básica dos nomes das colunas\n",
    "df_poke.columns    = df_poke.columns.str.strip().str.lower().str.replace(\" \", \"_\", regex=False)\n",
    "df_escolas.columns = df_escolas.columns.str.strip().str.lower().str.replace(\" \", \"_\", regex=False)\n",
    "\n",
    "# Ajuste de leitura de municípios para visualização\n",
    "if \"no_municipio\" in df_escolas.columns:\n",
    "    df_escolas[\"no_municipio\"] = df_escolas[\"no_municipio\"].astype(str).str.strip().str.title()\n",
    "\n",
    "print(\"✅ Pokémon:\", df_poke.shape, \" | colunas:\", len(df_poke.columns))\n",
    "print(\"✅ Escolas:\", df_escolas.shape, \" | colunas:\", len(df_escolas.columns))\n"
   ]
  },
  {
   "cell_type": "markdown",
   "id": "6925f15d",
   "metadata": {},
   "source": [
    "\n",
    "## 1) Seleção de colunas por **nome**\n",
    "- `df['col']` → retorna **Series**\n",
    "- `df[['col1', 'col2']]` → retorna **DataFrame**\n"
   ]
  },
  {
   "cell_type": "code",
   "execution_count": null,
   "id": "b53681d6",
   "metadata": {},
   "outputs": [],
   "source": [
    "\n",
    "print(\"Colunas Pokémon (exemplo):\", list(df_poke.columns)[:10])\n",
    "\n",
    "uma_coluna = df_poke.columns[0]\n",
    "serie = df_poke[uma_coluna]\n",
    "print(\"Coluna escolhida:\", uma_coluna, \"| Tipo:\", type(serie))\n",
    "display(serie.head())\n",
    "\n",
    "varias = df_poke[list(df_poke.columns[:3])]\n",
    "display(varias.head())\n"
   ]
  },
  {
   "cell_type": "markdown",
   "id": "cc207c13",
   "metadata": {},
   "source": [
    "\n",
    "## 2) Seleção por **padrão** no nome da coluna\n",
    "- `filter(like=...)` para \"contém\"\n",
    "- `filter(regex=...)` com expressão regular\n",
    "- `startswith` / `endswith`\n"
   ]
  },
  {
   "cell_type": "code",
   "execution_count": null,
   "id": "63b49a2d",
   "metadata": {},
   "outputs": [],
   "source": [
    "\n",
    "hp_cols  = df_poke.filter(like=\"hp\").columns.tolist()\n",
    "atk_cols = df_poke.filter(like=\"atk\").columns.tolist()\n",
    "print(\"HP:\", hp_cols, \" | ATK:\", atk_cols)\n",
    "display(df_poke[hp_cols + atk_cols].head())\n"
   ]
  },
  {
   "cell_type": "code",
   "execution_count": null,
   "id": "1785dc73",
   "metadata": {},
   "outputs": [],
   "source": [
    "\n",
    "regex_cols = df_escolas.filter(regex=r\"^(no_|co_)\").columns.tolist()\n",
    "print(\"Regex:\", regex_cols)\n",
    "display(df_escolas[regex_cols].head())\n"
   ]
  },
  {
   "cell_type": "code",
   "execution_count": null,
   "id": "98d370d2",
   "metadata": {},
   "outputs": [],
   "source": [
    "\n",
    "cols_tipo = [c for c in df_poke.columns if c.startswith(\"tipo\")]\n",
    "print(\"Começam com 'tipo':\", cols_tipo)\n",
    "display(df_poke[cols_tipo].head() if cols_tipo else \"Nenhuma coluna começando com 'tipo'\")\n"
   ]
  },
  {
   "cell_type": "markdown",
   "id": "6055e0a3",
   "metadata": {},
   "source": [
    "\n",
    "## 3) Seleção por **tipo de dado** (*dtypes*)\n",
    "- Numéricas vs texto (object)\n"
   ]
  },
  {
   "cell_type": "code",
   "execution_count": null,
   "id": "d3bbd8cf",
   "metadata": {},
   "outputs": [],
   "source": [
    "\n",
    "num_poke = df_poke.select_dtypes(include=[\"int64\", \"float64\"])\n",
    "obj_poke = df_poke.select_dtypes(include=[\"object\"])\n",
    "\n",
    "print(\"Numéricas Pokémon:\", num_poke.columns.tolist()[:8])\n",
    "print(\"Texto Pokémon:\", obj_poke.columns.tolist()[:8])\n"
   ]
  },
  {
   "cell_type": "markdown",
   "id": "54155671",
   "metadata": {},
   "source": [
    "\n",
    "## 4) Seleção por **posição** (índice da coluna) – `.iloc`\n"
   ]
  },
  {
   "cell_type": "code",
   "execution_count": null,
   "id": "a6bd3ce0",
   "metadata": {},
   "outputs": [],
   "source": [
    "\n",
    "sub_pos = df_poke.iloc[:, [0,1,2]]\n",
    "display(sub_pos.head())\n"
   ]
  },
  {
   "cell_type": "markdown",
   "id": "e6f2b959",
   "metadata": {},
   "source": [
    "\n",
    "## 5) Seleção **segura** com checagem de colunas\n",
    "Evita erros quando algum nome não existe.\n"
   ]
  },
  {
   "cell_type": "code",
   "execution_count": null,
   "id": "7e64c45e",
   "metadata": {},
   "outputs": [],
   "source": [
    "\n",
    "def selecionar_colunas_seguras(df, colunas):\n",
    "    existentes = [c for c in colunas if c in df.columns]\n",
    "    faltantes  = [c for c in colunas if c not in df.columns]\n",
    "    if faltantes:\n",
    "        print(\"⚠️ Colunas inexistentes ignoradas:\", faltantes)\n",
    "    return df[existentes]\n",
    "\n",
    "cols_escolas = [\"no_entidade\", \"no_municipio\", \"tp_dependencia\"]\n",
    "sub_escolas = selecionar_colunas_seguras(df_escolas, cols_escolas)\n",
    "display(sub_escolas.head())\n"
   ]
  },
  {
   "cell_type": "markdown",
   "id": "15cc4db5",
   "metadata": {},
   "source": [
    "\n",
    "## 6) Renomear, reordenar e remover colunas\n"
   ]
  },
  {
   "cell_type": "code",
   "execution_count": null,
   "id": "ea9ab193",
   "metadata": {},
   "outputs": [],
   "source": [
    "\n",
    "df_escolas_ren = df_escolas.rename(columns={\n",
    "    \"no_entidade\": \"nome_escola\",\n",
    "    \"no_municipio\": \"municipio\",\n",
    "    \"tp_dependencia\": \"dependencia\"\n",
    "})\n",
    "\n",
    "preferencia = [\"municipio\", \"nome_escola\", \"dependencia\"]\n",
    "nova_ordem = [c for c in preferencia if c in df_escolas_ren.columns] +              [c for c in df_escolas_ren.columns if c not in preferencia]\n",
    "\n",
    "df_escolas_ord = df_escolas_ren[nova_ordem]\n",
    "\n",
    "df_escolas_drop = df_escolas_ord.drop(columns=[\"coluna_inexistente\"], errors=\"ignore\")\n",
    "\n",
    "display(df_escolas_ord.head())\n"
   ]
  },
  {
   "cell_type": "markdown",
   "id": "dff8de51",
   "metadata": {},
   "source": [
    "\n",
    "---\n",
    "# 🧪 Mini-Lab — Entrega no Classroom\n",
    "**Arquivo:** `UC22_Aula04_Pratica_SeuNome.ipynb`\n",
    "\n",
    "1. **Pokémon**\n",
    "   - Liste todas as colunas (`df_poke.columns`).\n",
    "   - Selecione `name` (ou `nome`, conforme o dataset) + 3 atributos de combate (ex.: `hp`, `attack`, `defense`).\n",
    "   - Mostre as 10 primeiras linhas apenas dessas colunas.\n",
    "\n",
    "2. **Escolas**\n",
    "   - Liste todas as colunas (`df_escolas.columns`).\n",
    "   - Selecione código(s), nome da escola e município.\n",
    "   - Renomeie para `codigo`, `nome_escola`, `municipio`.\n",
    "   - Reordene para que `municipio` venha primeiro.\n",
    "\n",
    "3. **Extras**\n",
    "   - Crie um DataFrame só com colunas **numéricas**.\n",
    "   - Outro só com colunas **de texto**.\n",
    "   - Selecione 3 colunas por **posição** com `.iloc`.\n"
   ]
  },
  {
   "cell_type": "markdown",
   "id": "17629f36",
   "metadata": {},
   "source": [
    "\n",
    "## 🧯 Erros comuns\n",
    "- **KeyError**: coluna não existe → confira `df.columns`.\n",
    "- **Tudo em uma coluna só**: verifique `sep` correto.\n",
    "- **Acentos quebrados**: verifique `encoding` correto.\n",
    "- **Warning ao editar subconjuntos**: use `.copy()` antes de modificar.\n"
   ]
  },
  {
   "cell_type": "markdown",
   "id": "0179b2b3",
   "metadata": {},
   "source": [
    "\n",
    "---\n",
    "Gerado em: 2025-09-09\n"
   ]
  }
 ],
 "metadata": {},
 "nbformat": 4,
 "nbformat_minor": 5
}
