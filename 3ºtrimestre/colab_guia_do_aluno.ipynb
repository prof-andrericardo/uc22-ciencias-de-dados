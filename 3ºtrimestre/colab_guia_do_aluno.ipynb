{
 "cells": [
  {
   "cell_type": "markdown",
   "id": "7e0bb6c1",
   "metadata": {},
   "source": [
    "\n",
    "# 📘 UC22 – Ciências de Dados  \n",
    "## 🌟 Guia do 3º Trimestre – Versão para Alunos (Colab)\n",
    "\n",
    "🎓 **Turma:** 3º Ano do Ensino Médio Técnico em Informática  \n",
    "👨‍🏫 **Professor:** André Ricardo  \n",
    "📌 **Tema:** *“Se tornar um Cientista Pokémon”*  \n",
    "\n",
    "> Use este notebook como **roteiro prático** do trimestre. Cada aula tem explicações, exemplos e **Missões Pokémon**.  \n",
    "> Preencha as respostas solicitadas em **células de texto** e **execute os códigos** nas células de código.\n"
   ]
  },
  {
   "cell_type": "markdown",
   "id": "e4e98446",
   "metadata": {},
   "source": [
    "\n",
    "---\n",
    "## ⚙️ Preparação do Ambiente (execute estas células primeiro)\n"
   ]
  },
  {
   "cell_type": "code",
   "execution_count": null,
   "id": "86820ae3",
   "metadata": {},
   "outputs": [],
   "source": [
    "\n",
    "# Se estiver no Google Colab, descomente a linha abaixo para usar o upload manual do CSV\n",
    "# from google.colab import files\n",
    "\n",
    "import pandas as pd\n",
    "import matplotlib.pyplot as plt\n",
    "\n",
    "# Configurações opcionais de exibição\n",
    "pd.set_option('display.max_columns', None)\n",
    "pd.set_option('display.width', 120)\n"
   ]
  },
  {
   "cell_type": "markdown",
   "id": "75c089dd",
   "metadata": {},
   "source": [
    "\n",
    "### 📂 Carregar o dataset `pokemons_pokedex.csv`\n",
    "\n",
    "Escolha **uma** das opções abaixo:\n",
    "\n",
    "1) **Enviar (upload) manualmente** o arquivo `pokemons_pokedex.csv` do seu computador.  \n",
    "2) **Ler de uma URL** (se seu professor disponibilizar um link).  \n",
    "3) **Ler de um caminho local** já disponível no ambiente.\n"
   ]
  },
  {
   "cell_type": "code",
   "execution_count": null,
   "id": "e4b05df4",
   "metadata": {},
   "outputs": [],
   "source": [
    "\n",
    "# 🔄 OPÇÃO 1: Upload manual (COLAB)\n",
    "# Descomente para usar no Colab:\n",
    "# uploaded = files.upload()  # selecione o arquivo pokemons_pokedex.csv\n",
    "# import io\n",
    "# df = pd.read_csv(io.BytesIO(uploaded['pokemons_pokedex.csv']))\n",
    "\n",
    "# 🔗 OPÇÃO 2: URL (se houver)\n",
    "# url = \"https://SEU_LINK_AQUI/pokemons_pokedex.csv\"\n",
    "# df = pd.read_csv(url)\n",
    "\n",
    "# 📁 OPÇÃO 3: Caminho local (por exemplo, se o arquivo já estiver no ambiente)\n",
    "# Ajuste o caminho conforme necessário (no Colab, faça upload e use o nome do arquivo)\n",
    "df = pd.read_csv(\"pokemons_pokedex.csv\")\n",
    "\n",
    "# Verifique rapidamente\n",
    "df.head()\n"
   ]
  },
  {
   "cell_type": "markdown",
   "id": "2fd9fa7e",
   "metadata": {},
   "source": [
    "\n",
    "---\n",
    "# 🔹 Módulo 1 – Revisão e Introdução aos Dados (Aulas 1 a 3)\n",
    "\n",
    "### 🎯 Objetivos\n",
    "- Entender **dados abertos** e **CSV**  \n",
    "- Carregar e **explorar** um dataset com **Pandas**  \n",
    "- Conhecer funções básicas: `read_csv`, `head`, `info`, `shape`\n"
   ]
  },
  {
   "cell_type": "markdown",
   "id": "1e47e123",
   "metadata": {},
   "source": [
    "\n",
    "## 📍 Aula 1 – Revisão + Dados Abertos\n",
    "**Tarefa:** Execute o código de exemplo e descreva (em 2–3 linhas) o que você observa.\n"
   ]
  },
  {
   "cell_type": "code",
   "execution_count": null,
   "id": "aab60ad7",
   "metadata": {},
   "outputs": [],
   "source": [
    "\n",
    "# Exemplo simples usando o DataFrame já carregado (df)\n",
    "print(\"Dimensões do dataset (linhas, colunas):\", df.shape)\n",
    "print(\"\\nColunas disponíveis:\")\n",
    "print(df.columns.tolist())\n",
    "\n",
    "# Visualize as 5 primeiras linhas\n",
    "df.head()\n"
   ]
  },
  {
   "cell_type": "markdown",
   "id": "12430f92",
   "metadata": {},
   "source": [
    "\n",
    "**Resposta (escreva aqui):**  \n",
    "> _Explique o que significam as dimensões e cite 3 colunas interessantes e por quê._\n"
   ]
  },
  {
   "cell_type": "markdown",
   "id": "39a40fde",
   "metadata": {},
   "source": [
    "\n",
    "## 📍 Aula 2 – Estrutura de Arquivos CSV\n",
    "**Conceitos:** separadores, cabeçalho, acentuação, codificação.  \n",
    "**Exercício:** Mostre o número de valores **únicos** em cada coluna chave.\n"
   ]
  },
  {
   "cell_type": "code",
   "execution_count": null,
   "id": "3b83c4bf",
   "metadata": {},
   "outputs": [],
   "source": [
    "\n",
    "# Conte valores únicos em colunas selecionadas (ajuste conforme seu CSV)\n",
    "colunas_chave = ['Name', 'Type 1', 'Type 2', 'Generation', 'Legendary']\n",
    "for c in colunas_chave:\n",
    "    if c in df.columns:\n",
    "        print(f\"{c}: {df[c].nunique()} valores únicos\")\n"
   ]
  },
  {
   "cell_type": "markdown",
   "id": "68fd6e9a",
   "metadata": {},
   "source": [
    "\n",
    "## 📍 Aula 3 – Primeiros Passos com Pandas\n"
   ]
  },
  {
   "cell_type": "code",
   "execution_count": null,
   "id": "cebfe64f",
   "metadata": {},
   "outputs": [],
   "source": [
    "\n",
    "# Explorando estrutura\n",
    "print(\"Informações gerais do DataFrame:\")\n",
    "print(df.info())\n",
    "\n",
    "print(\"\\nEstatísticas descritivas (numéricas):\")\n",
    "df.describe()\n"
   ]
  },
  {
   "cell_type": "markdown",
   "id": "0e315dde",
   "metadata": {},
   "source": [
    "\n",
    "🎮 **Missão Pokémon (Módulo 1):**  \n",
    "1) Quantos **Pokémon Lendários** existem?  \n",
    "2) Liste **3** Pokémon que chamaram sua atenção (e explique por quê).  \n",
    "\n",
    "_Escreva suas respostas nesta célula._\n"
   ]
  },
  {
   "cell_type": "markdown",
   "id": "3a3994bc",
   "metadata": {},
   "source": [
    "\n",
    "---\n",
    "# 🔹 Módulo 2 – Manipulação de Dados (Aulas 4 a 9)\n",
    "\n",
    "### 🎯 Objetivos\n",
    "- Selecionar colunas  \n",
    "- Aplicar filtros simples e compostos  \n",
    "- Agrupar e ordenar dados  \n",
    "- Criar gráficos básicos com **Matplotlib**\n"
   ]
  },
  {
   "cell_type": "markdown",
   "id": "111d7d43",
   "metadata": {},
   "source": [
    "\n",
    "## 📍 Aula 4 – Seleção de Colunas\n",
    "**Exemplo:** selecionar apenas `Name`, `Type 1`, `Attack`.\n"
   ]
  },
  {
   "cell_type": "code",
   "execution_count": null,
   "id": "d14b0ddd",
   "metadata": {},
   "outputs": [],
   "source": [
    "\n",
    "df[['Name', 'Type 1', 'Attack']].head()\n"
   ]
  },
  {
   "cell_type": "markdown",
   "id": "fa4bf17e",
   "metadata": {},
   "source": [
    "\n",
    "**Tente você:** Mostre apenas as colunas **Name**, **Type 1** e **Speed**.\n"
   ]
  },
  {
   "cell_type": "code",
   "execution_count": null,
   "id": "3f0134fd",
   "metadata": {},
   "outputs": [],
   "source": [
    "\n",
    "# Sua solução aqui:\n",
    "df[['Name', 'Type 1', 'Speed']].head()\n"
   ]
  },
  {
   "cell_type": "markdown",
   "id": "30438931",
   "metadata": {},
   "source": [
    "\n",
    "## 📍 Aula 5 – Filtros Simples\n",
    "**Exemplo:** Pokémon do **tipo Elétrico** com **Speed > 80**.\n"
   ]
  },
  {
   "cell_type": "code",
   "execution_count": null,
   "id": "082b6087",
   "metadata": {},
   "outputs": [],
   "source": [
    "\n",
    "eletricos_rapidos = df[(df['Type 1'] == 'Electric') & (df['Speed'] > 80)]\n",
    "eletricos_rapidos.head()\n"
   ]
  },
  {
   "cell_type": "markdown",
   "id": "175dba50",
   "metadata": {},
   "source": [
    "\n",
    "**Tente você:** Quantos Pokémon do **tipo Fogo** têm **Attack > 90**?\n"
   ]
  },
  {
   "cell_type": "code",
   "execution_count": null,
   "id": "6d4ca798",
   "metadata": {},
   "outputs": [],
   "source": [
    "\n",
    "# Sua solução:\n",
    "fogo_fortes = df[(df['Type 1'] == 'Fire') & (df['Attack'] > 90)]\n",
    "len(fogo_fortes), fogo_fortes[['Name','Attack']].head()\n"
   ]
  },
  {
   "cell_type": "markdown",
   "id": "039e713f",
   "metadata": {},
   "source": [
    "\n",
    "## 📍 Aula 6 – Filtros Compostos\n",
    "**Exemplo:** Pokémon do **tipo Água** com **Speed > 70** e **Defense < 60**.\n"
   ]
  },
  {
   "cell_type": "code",
   "execution_count": null,
   "id": "7b17778f",
   "metadata": {},
   "outputs": [],
   "source": [
    "\n",
    "agua_condicoes = df[(df['Type 1'] == 'Water') & (df['Speed'] > 70) & (df['Defense'] < 60)]\n",
    "agua_condicoes.head()\n"
   ]
  },
  {
   "cell_type": "markdown",
   "id": "ca7b0ee0",
   "metadata": {},
   "source": [
    "\n",
    "🎮 **Missão Pokémon:** Monte um **time defensivo** (alta defesa + ataque baixo).  \n",
    "Dica: Defense >= 90 e Attack <= 70 (ajuste como quiser).  \n",
    "Mostre os **10 primeiros**.\n"
   ]
  },
  {
   "cell_type": "code",
   "execution_count": null,
   "id": "9858314c",
   "metadata": {},
   "outputs": [],
   "source": [
    "\n",
    "time_defensivo = df[(df['Defense'] >= 90) & (df['Attack'] <= 70)].sort_values(by='Defense', ascending=False)\n",
    "time_defensivo[['Name','Type 1','Defense','Attack']].head(10)\n"
   ]
  },
  {
   "cell_type": "markdown",
   "id": "337b66ec",
   "metadata": {},
   "source": [
    "\n",
    "## 📍 Aula 7 – Agrupamentos com `groupby()`\n",
    "**Exemplo:** médias de **Attack**, **Speed** e **HP** por **Type 1**.\n"
   ]
  },
  {
   "cell_type": "code",
   "execution_count": null,
   "id": "6fbdc256",
   "metadata": {},
   "outputs": [],
   "source": [
    "\n",
    "media_por_tipo = df.groupby('Type 1')[['Attack', 'Speed', 'HP']].mean().sort_values(by='Attack', ascending=False)\n",
    "media_por_tipo.head(10)\n"
   ]
  },
  {
   "cell_type": "markdown",
   "id": "b2fd2884",
   "metadata": {},
   "source": [
    "\n",
    "**Tente você:** Qual **tipo** tem a maior **média de HP**?\n"
   ]
  },
  {
   "cell_type": "code",
   "execution_count": null,
   "id": "24f8c175",
   "metadata": {},
   "outputs": [],
   "source": [
    "\n",
    "df.groupby('Type 1')['HP'].mean().sort_values(ascending=False).head(10)\n"
   ]
  },
  {
   "cell_type": "markdown",
   "id": "bbb387ff",
   "metadata": {},
   "source": [
    "\n",
    "## 📍 Aula 8 – Ordenação com `sort_values()`\n",
    "**Exemplo:** Top 10 em **Speed**.\n"
   ]
  },
  {
   "cell_type": "code",
   "execution_count": null,
   "id": "c6c9f6a4",
   "metadata": {},
   "outputs": [],
   "source": [
    "\n",
    "top_10_speed = df.sort_values(by='Speed', ascending=False).head(10)\n",
    "top_10_speed[['Name','Type 1','Speed']]\n"
   ]
  },
  {
   "cell_type": "markdown",
   "id": "792a130b",
   "metadata": {},
   "source": [
    "\n",
    "**Tente você:** Descubra o Pokémon com **maior Attack**.\n"
   ]
  },
  {
   "cell_type": "code",
   "execution_count": null,
   "id": "62a28dc5",
   "metadata": {},
   "outputs": [],
   "source": [
    "\n",
    "df.sort_values(by='Attack', ascending=False)[['Name','Type 1','Attack']].head(1)\n"
   ]
  },
  {
   "cell_type": "markdown",
   "id": "79d594c2",
   "metadata": {},
   "source": [
    "\n",
    "## 📍 Aula 9 – Gráficos (Matplotlib)\n",
    "**Exemplo:** Quantidade de Pokémon por **Type 1**.\n"
   ]
  },
  {
   "cell_type": "code",
   "execution_count": null,
   "id": "3fa5abc2",
   "metadata": {},
   "outputs": [],
   "source": [
    "\n",
    "df['Type 1'].value_counts().plot(kind='bar')\n",
    "plt.title(\"Quantidade de Pokémon por Tipo (Type 1)\")\n",
    "plt.xlabel(\"Tipo\")\n",
    "plt.ylabel(\"Quantidade\")\n",
    "plt.show()\n"
   ]
  },
  {
   "cell_type": "markdown",
   "id": "09c75b3f",
   "metadata": {},
   "source": [
    "\n",
    "🎮 **Missão Pokémon:** Crie um gráfico de **pizza** mostrando a proporção de **Pokémon Lendários**.\n"
   ]
  },
  {
   "cell_type": "code",
   "execution_count": null,
   "id": "57eebfcc",
   "metadata": {},
   "outputs": [],
   "source": [
    "\n",
    "if 'Legendary' in df.columns:\n",
    "    df['Legendary'].value_counts().plot(kind='pie', autopct='%1.1f%%')\n",
    "    plt.title(\"Proporção de Pokémon Lendários\")\n",
    "    plt.ylabel(\"\")\n",
    "    plt.show()\n",
    "else:\n",
    "    print(\"Coluna 'Legendary' não encontrada no dataset.\")\n"
   ]
  },
  {
   "cell_type": "markdown",
   "id": "d7b64711",
   "metadata": {},
   "source": [
    "\n",
    "---\n",
    "# 🔹 Módulo 3 – Higienização e Padronização (Aulas 10 a 12)\n",
    "\n",
    "### 🎯 Objetivos\n",
    "- Detectar e tratar **dados nulos**  \n",
    "- **Padronizar textos** para evitar inconsistências\n"
   ]
  },
  {
   "cell_type": "markdown",
   "id": "1abc24b1",
   "metadata": {},
   "source": [
    "\n",
    "## 📍 Aula 10 – Detectando Dados Nulos\n"
   ]
  },
  {
   "cell_type": "code",
   "execution_count": null,
   "id": "3e116163",
   "metadata": {},
   "outputs": [],
   "source": [
    "\n",
    "df.isnull().sum()\n"
   ]
  },
  {
   "cell_type": "markdown",
   "id": "a6c150ee",
   "metadata": {},
   "source": [
    "\n",
    "## 📍 Aula 11 – Tratando Nulos\n",
    "**Exemplo:** preencher `Speed` ausente com a **média**.\n"
   ]
  },
  {
   "cell_type": "code",
   "execution_count": null,
   "id": "e0b058f2",
   "metadata": {},
   "outputs": [],
   "source": [
    "\n",
    "if 'Speed' in df.columns:\n",
    "    df['Speed'] = df['Speed'].fillna(df['Speed'].mean())\n",
    "    df['Speed'].isnull().sum()\n",
    "else:\n",
    "    print(\"Coluna 'Speed' não encontrada.\")\n"
   ]
  },
  {
   "cell_type": "markdown",
   "id": "d4eeec9b",
   "metadata": {},
   "source": [
    "\n",
    "## 📍 Aula 12 – Padronização de Texto\n",
    "**Exemplo:** padronizar `Type 1` com a primeira letra maiúscula.\n"
   ]
  },
  {
   "cell_type": "code",
   "execution_count": null,
   "id": "823be31e",
   "metadata": {},
   "outputs": [],
   "source": [
    "\n",
    "if 'Type 1' in df.columns:\n",
    "    df['Type 1'] = df['Type 1'].astype(str).str.strip().str.capitalize()\n",
    "    sorted(df['Type 1'].unique())\n",
    "else:\n",
    "    print(\"Coluna 'Type 1' não encontrada.\")\n"
   ]
  },
  {
   "cell_type": "markdown",
   "id": "140f9d93",
   "metadata": {},
   "source": [
    "\n",
    "🎮 **Missão Pokémon (Módulo 3):**  \n",
    "1) Mostre quantos **tipos únicos** existem após a padronização.  \n",
    "2) Verifique se existem **espaços em branco** no início/fim dos nomes de Pokémon e corrija.\n"
   ]
  },
  {
   "cell_type": "code",
   "execution_count": null,
   "id": "e5f03ed3",
   "metadata": {},
   "outputs": [],
   "source": [
    "\n",
    "# (2) Remover espaços no início/fim dos nomes, se houver\n",
    "if 'Name' in df.columns:\n",
    "    antes = df['Name'].nunique()\n",
    "    df['Name'] = df['Name'].astype(str).str.strip()\n",
    "    depois = df['Name'].nunique()\n",
    "    print(\"Únicos antes:\", antes, \"| únicos depois:\", depois)\n",
    "else:\n",
    "    print(\"Coluna 'Name' não encontrada.\")\n"
   ]
  },
  {
   "cell_type": "markdown",
   "id": "19e7f3e2",
   "metadata": {},
   "source": [
    "\n",
    "---\n",
    "# 🔹 Módulo 4 – Consolidação e Avaliação (Aulas 13 a 16)\n",
    "\n",
    "- **Revisão prática** no Colab (exercícios integrados)  \n",
    "- **Avaliação teórica** (conceitos e sintaxe)  \n",
    "- **Estudo de caso Pokémon**: velocidade, tipos, gerações\n"
   ]
  },
  {
   "cell_type": "markdown",
   "id": "f168c075",
   "metadata": {},
   "source": [
    "\n",
    "### 🧪 Desafio Integrador (Exemplo)\n",
    "1) Liste os **Top 5** Pokémon em **Speed** e **Attack** (duas tabelas separadas).  \n",
    "2) Mostre a **média de HP por geração** em um **gráfico de barras**.\n"
   ]
  },
  {
   "cell_type": "code",
   "execution_count": null,
   "id": "99b1becb",
   "metadata": {},
   "outputs": [],
   "source": [
    "\n",
    "# (1) Top 5 em Speed e Attack\n",
    "top5_speed = df.sort_values(by='Speed', ascending=False).head(5)[['Name','Type 1','Speed']]\n",
    "top5_attack = df.sort_values(by='Attack', ascending=False).head(5)[['Name','Type 1','Attack']]\n",
    "\n",
    "print(\"Top 5 Speed\")\n",
    "display(top5_speed)\n",
    "print(\"\\nTop 5 Attack\")\n",
    "display(top5_attack)\n",
    "\n",
    "# (2) Média de HP por geração\n",
    "if 'Generation' in df.columns:\n",
    "    media_hp_gen = df.groupby('Generation')['HP'].mean()\n",
    "    media_hp_gen.plot(kind='bar')\n",
    "    plt.title(\"Média de HP por Geração\")\n",
    "    plt.xlabel(\"Geração\")\n",
    "    plt.ylabel(\"HP médio\")\n",
    "    plt.show()\n",
    "else:\n",
    "    print(\"Coluna 'Generation' não encontrada.\")\n"
   ]
  },
  {
   "cell_type": "markdown",
   "id": "9ebe99ef",
   "metadata": {},
   "source": [
    "\n",
    "---\n",
    "# 🔹 Módulo 5 – Projeto Final: Pokédex Científica (Aulas 17 a 20)\n",
    "\n",
    "### 🎯 Objetivo\n",
    "Criar, em grupos, uma **Pokédex Científica** com **tabelas, gráficos e conclusões** em linguagem natural.\n"
   ]
  },
  {
   "cell_type": "markdown",
   "id": "16434dd3",
   "metadata": {},
   "source": [
    "\n",
    "## 🧭 Roteiro do Projeto (Sugestão)\n",
    "1) Escolha do tema do grupo: **Ataque**, **Defesa**, **Velocidade**, **Tipos** ou **Evoluções**  \n",
    "2) Geração de **pelo menos 3 tabelas** e **2 gráficos** relevantes  \n",
    "3) Escrita de **conclusões** (5–8 frases) explicando **o que os dados mostram**  \n",
    "4) **Apresentação** breve (3–5 minutos) com os principais achados\n"
   ]
  },
  {
   "cell_type": "markdown",
   "id": "26478330",
   "metadata": {},
   "source": [
    "\n",
    "## 📝 Estrutura do Relatório (modelo rápido)\n",
    "- **Título do Grupo & Tema**  \n",
    "- **Perguntas de Pesquisa** (ex.: *Quais são os tipos mais comuns?*)  \n",
    "- **Metodologia** (quais filtros, agrupamentos, ordenações foram usados)  \n",
    "- **Resultados** (tabelas + gráficos)  \n",
    "- **Conclusões** (em linguagem natural)  \n",
    "- **Créditos do grupo**\n"
   ]
  },
  {
   "cell_type": "markdown",
   "id": "347cf66d",
   "metadata": {},
   "source": [
    "----\n",
    "### Dicas finais\n",
    "- Comente seus códigos com # explicações\n",
    "- Salve seu notebook com frequência\n",
    "- Revise se seus gráficos têm título e rótulos de eixos\n",
    "- Valide as conclusões com os dados\n",
    "\n",
    "Gerado em: 2025-09-09"
   ]
  }
 ],
 "metadata": {},
 "nbformat": 4,
 "nbformat_minor": 5
}
