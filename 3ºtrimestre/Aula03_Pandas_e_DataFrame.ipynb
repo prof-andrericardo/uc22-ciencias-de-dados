{
 "cells": [
  {
   "cell_type": "markdown",
   "id": "de060e17",
   "metadata": {},
   "source": [
    "\n",
    "# 📘 UC22 – Aula 3 — **Pandas e DataFrame** (Versão Alunos)\n",
    "**Curso:** 3º Ano – Ensino Médio Técnico em Informática  \n",
    "**Ferramenta:** Google Colab  \n",
    "**Duração:** ~90 min  \n",
    "**Tema:** Leitura de CSV e exploração inicial com **Pandas**\n",
    "\n",
    "> “Você não precisa decorar códigos; precisa entender o que os **dados** querem te contar.” – IAra 💡\n"
   ]
  },
  {
   "cell_type": "markdown",
   "id": "20043d0b",
   "metadata": {},
   "source": [
    "\n",
    "## 🎯 Objetivos de aprendizagem\n",
    "- Entender com precisão **Pandas**, **DataFrame**, **Series**, **Index**, **dtypes** e **NaN**.  \n",
    "- Ler CSV de forma **robusta** (encoding, separador, erros comuns).  \n",
    "- Explorar um DataFrame com `head`, `tail`, `sample`, `info`, `shape`, `dtypes`, `columns`.  \n",
    "- Calcular **sumários**: `describe`, `nunique`, `unique`, `value_counts`, nulos.  \n",
    "- Iniciar **padronização** de colunas e textos.\n"
   ]
  },
  {
   "cell_type": "markdown",
   "id": "b1a2346a",
   "metadata": {},
   "source": [
    "\n",
    "## 🧠 Conceitos essenciais\n",
    "**Pandas** — biblioteca Python para **análise/manipulação** de dados.  \n",
    "**DataFrame** — tabela (linhas × colunas), como uma planilha **dentro do Python**.  \n",
    "**Series** — uma **coluna** (ou linha) do DataFrame.  \n",
    "**Index** — rótulos das linhas (por padrão: 0, 1, 2...).  \n",
    "**dtypes** — tipos de dados das colunas (`int64`, `float64`, `object`, `bool`, `datetime64[ns]`).  \n",
    "**NaN** — valores **ausentes** (faltantes) que precisam ser detectados e tratados mais adiante.\n"
   ]
  },
  {
   "cell_type": "markdown",
   "id": "0b2e68c9",
   "metadata": {},
   "source": [
    "\n",
    "## 📤 Enviando os arquivos para o Colab\n",
    "Você vai precisar de **dois CSVs**:\n",
    "- `pokemons_pokedex.csv` *(nome alternativo comum: `pokemons.csv`)*  \n",
    "- `escolas_estaduais_censo_escolar_2023.csv`\n",
    "\n",
    "Faça o upload abaixo (Ctrl/Cmd + clique para selecionar múltiplos arquivos).\n"
   ]
  },
  {
   "cell_type": "code",
   "execution_count": null,
   "id": "a3f1209f",
   "metadata": {},
   "outputs": [],
   "source": [
    "\n",
    "# @title Upload dos arquivos CSV (Pokémon + Escolas)\n",
    "# Execute esta célula, clique no botão e selecione os arquivos .csv do seu computador.\n",
    "from google.colab import files  # importa utilitário do Colab para upload de arquivos\n",
    "\n",
    "uploaded = files.upload()       # abre a janela para selecionar arquivos\n",
    "# Dica: selecione \"pokemons_pokedex.csv\" (ou \"pokemons.csv\") e \"escolas_estaduais_censo_escolar_2023.csv\"\n"
   ]
  },
  {
   "cell_type": "markdown",
   "id": "e97fd3f2",
   "metadata": {},
   "source": [
    "\n",
    "## 🐼 Importando o Pandas e conferindo a versão\n"
   ]
  },
  {
   "cell_type": "code",
   "execution_count": null,
   "id": "182e4cd0",
   "metadata": {},
   "outputs": [],
   "source": [
    "\n",
    "# @title Import e opções de exibição\n",
    "import pandas as pd                           # 'pd' é o alias padrão para Pandas\n",
    "print(\"Versão do Pandas:\", pd.__version__)    # útil para compatibilidade e pesquisa\n",
    "pd.options.display.max_columns = 50           # (opcional) mostra mais colunas ao imprimir DataFrames\n"
   ]
  },
  {
   "cell_type": "markdown",
   "id": "405269d9",
   "metadata": {},
   "source": [
    "\n",
    "## 📚 Lendo os CSVs de forma **robusta**\n",
    "- **Acentos estranhos (Ã, Õ)** → ajuste o `encoding` (UTF-8 ⇄ Latin-1).  \n",
    "- **Tudo em uma coluna só** → ajuste o `sep` (`,` ⇄ `;`).  \n",
    "Abaixo, o código tenta os casos mais comuns para **Pokémon** e **Escolas**.\n"
   ]
  },
  {
   "cell_type": "code",
   "execution_count": null,
   "id": "9d2d2208",
   "metadata": {},
   "outputs": [],
   "source": [
    "\n",
    "# @title Leitura robusta dos CSVs\n",
    "from pathlib import Path\n",
    "import pandas as pd\n",
    "\n",
    "def read_csv_resiliente(caminhos, encodings=(\"utf-8\", \"latin-1\"), seps=(\",\", \";\")):\n",
    "    \"\"\"\n",
    "    Tenta ler um CSV testando múltiplos caminhos, encodings e separadores.\n",
    "    Retorna um DataFrame lido com sucesso ou levanta FileNotFoundError/UnicodeError.\n",
    "    \"\"\"\n",
    "    if isinstance(caminhos, (str, Path)):\n",
    "        caminhos = [caminhos]\n",
    "\n",
    "    last_error = None\n",
    "    for caminho in caminhos:\n",
    "        for enc in encodings:\n",
    "            for sep in seps:\n",
    "                try:\n",
    "                    df = pd.read_csv(caminho, encoding=enc, sep=sep)\n",
    "                    if df.shape[1] == 1 and sep == \",\":\n",
    "                        try:\n",
    "                            df = pd.read_csv(caminho, encoding=enc, sep=\";\")\n",
    "                        except Exception as e:\n",
    "                            last_error = e\n",
    "                    if df.shape[1] > 1:\n",
    "                        return df\n",
    "                except Exception as e:\n",
    "                    last_error = e\n",
    "    if last_error:\n",
    "        raise last_error\n",
    "    raise FileNotFoundError(f\"Não foi possível ler o arquivo: {caminhos}\")\n",
    "\n",
    "poke_caminhos = [\"pokemons_pokedex.csv\", \"pokemons.csv\"]\n",
    "df_poke = read_csv_resiliente(poke_caminhos)\n",
    "\n",
    "escolas_caminhos = [\"escolas_estaduais_censo_escolar_2023.csv\"]\n",
    "df_escolas = read_csv_resiliente(escolas_caminhos)\n",
    "\n",
    "print(\"✅ Pokémon lido:\", df_poke.shape, \"→ colunas:\", len(df_poke.columns))\n",
    "print(\"✅ Escolas lido:\", df_escolas.shape, \"→ colunas:\", len(df_escolas.columns))\n"
   ]
  },
  {
   "cell_type": "markdown",
   "id": "be0d7d45",
   "metadata": {},
   "source": [
    "\n",
    "## 👀 Primeira inspeção: `head`, `tail`, `sample`\n",
    "Três jeitos rápidos de **ver os dados** sem rolar um arquivo gigante.\n"
   ]
  },
  {
   "cell_type": "code",
   "execution_count": null,
   "id": "d8ecf788",
   "metadata": {},
   "outputs": [],
   "source": [
    "\n",
    "# @title Primeiras visualizações (Pokémon e Escolas)\n",
    "# Pokémon\n",
    "display(df_poke.head())    # 5 primeiras linhas\n",
    "display(df_poke.tail())    # 5 últimas linhas\n",
    "display(df_poke.sample(5)) # 5 linhas aleatórias\n",
    "\n",
    "# Escolas\n",
    "display(df_escolas.head())\n",
    "display(df_escolas.tail())\n",
    "display(df_escolas.sample(5))\n"
   ]
  },
  {
   "cell_type": "markdown",
   "id": "0ad123bb",
   "metadata": {},
   "source": [
    "\n",
    "## 🧱 Estrutura do DataFrame: `shape`, `columns`, `index`, `dtypes`, `info`\n",
    "- `shape`: (linhas, colunas)  \n",
    "- `columns`: nomes exatos das colunas (evita erro de digitação)  \n",
    "- `index`: rótulos das linhas  \n",
    "- `dtypes` e `info`: tipos, não-nulos, diagnóstico rápido\n"
   ]
  },
  {
   "cell_type": "code",
   "execution_count": null,
   "id": "743affb9",
   "metadata": {},
   "outputs": [],
   "source": [
    "\n",
    "# @title Estrutura geral dos DataFrames\n",
    "print(\"POKÉMON → shape:\", df_poke.shape)\n",
    "print(\"ESCOLAS  → shape:\", df_escolas.shape)\n",
    "print()\n",
    "\n",
    "print(\"POKÉMON → columns:\", list(df_poke.columns))\n",
    "print(\"ESCOLAS  → columns:\", list(df_escolas.columns))\n",
    "print()\n",
    "\n",
    "print(\"POKÉMON → index:\", df_poke.index)\n",
    "print(\"ESCOLAS  → index:\", df_escolas.index)\n",
    "print()\n",
    "\n",
    "print(\"POKÉMON → dtypes:\\n\", df_poke.dtypes)\n",
    "print()\n",
    "print(\"ESCOLAS  → dtypes:\\n\", df_escolas.dtypes)\n",
    "print()\n",
    "\n",
    "print(\"ℹ️ POKÉMON → info()\")\n",
    "display(df_poke.info(verbose=True))\n",
    "print(\"ℹ️ ESCOLAS → info()\")\n",
    "display(df_escolas.info(verbose=True))\n"
   ]
  },
  {
   "cell_type": "markdown",
   "id": "bada1667",
   "metadata": {},
   "source": [
    "\n",
    "## 🕳️ Valores ausentes (NaN) — contagem e porcentagem\n",
    "Antes de analisar, precisamos saber **o que está faltando**.\n"
   ]
  },
  {
   "cell_type": "code",
   "execution_count": null,
   "id": "ffe1805d",
   "metadata": {},
   "outputs": [],
   "source": [
    "\n",
    "# @title Nulos por coluna (contagem e %)\n",
    "import pandas as pd\n",
    "\n",
    "nulos_poke = df_poke.isna().sum()\n",
    "perc_nulos_poke = (nulos_poke / len(df_poke) * 100).round(2)\n",
    "tabela_poke = pd.DataFrame({\"nulos\": nulos_poke, \"perc_%\": perc_nulos_poke}).sort_values(\"nulos\", ascending=False)\n",
    "print(\"NULOS — Pokémon\")\n",
    "display(tabela_poke)\n",
    "\n",
    "nulos_escolas = df_escolas.isna().sum()\n",
    "perc_nulos_escolas = (nulos_escolas / len(df_escolas) * 100).round(2)\n",
    "tabela_escolas = pd.DataFrame({\"nulos\": nulos_escolas, \"perc_%\": perc_nulos_escolas}).sort_values(\"nulos\", ascending=False)\n",
    "print(\"NULOS — Escolas\")\n",
    "display(tabela_escolas)\n"
   ]
  },
  {
   "cell_type": "markdown",
   "id": "c94a023a",
   "metadata": {},
   "source": [
    "\n",
    "## 📊 Sumários rápidos: `describe()`\n",
    "Números → média, desvio, mínimos/máximos, quartis.  \n",
    "Texto → contagem, valores únicos, valor mais frequente.\n"
   ]
  },
  {
   "cell_type": "code",
   "execution_count": null,
   "id": "87d0c67d",
   "metadata": {},
   "outputs": [],
   "source": [
    "\n",
    "# @title Estatísticas descritivas\n",
    "print(\"Pokémon — numéricas\")\n",
    "display(df_poke.describe())\n",
    "\n",
    "print(\"Pokémon — texto/categóricas\")\n",
    "display(df_poke.describe(include='object'))\n",
    "\n",
    "print(\"Escolas — numéricas\")\n",
    "display(df_escolas.describe())\n",
    "\n",
    "print(\"Escolas — texto/categóricas\")\n",
    "display(df_escolas.describe(include='object'))\n"
   ]
  },
  {
   "cell_type": "markdown",
   "id": "09714f32",
   "metadata": {},
   "source": [
    "\n",
    "## 🧮 Categorias mais frequentes: `value_counts()`\n",
    "Se não souber qual coluna usar, detecte automaticamente **uma coluna de texto** e veja o **Top 10**.\n"
   ]
  },
  {
   "cell_type": "code",
   "execution_count": null,
   "id": "7af78dc2",
   "metadata": {},
   "outputs": [],
   "source": [
    "\n",
    "# @title Top 10 categorias mais frequentes (auto)\n",
    "def top10_categorias(df):\n",
    "    cat_cols = df.select_dtypes(include='object').columns\n",
    "    if len(cat_cols) == 0:\n",
    "        print(\"Não há colunas categóricas de texto neste DataFrame.\")\n",
    "        return\n",
    "    col = cat_cols[0]\n",
    "    print(f\"Coluna categórica escolhida: {col}\")\n",
    "    display(df[col].value_counts().head(10))\n",
    "\n",
    "print(\"Pokémon — Top 10 categorias\")\n",
    "top10_categorias(df_poke)\n",
    "\n",
    "print(\"Escolas — Top 10 categorias\")\n",
    "top10_categorias(df_escolas)\n",
    "\n",
    "# Dica: se você já sabe a coluna, use diretamente, por exemplo:\n",
    "# df_escolas['NO_MUNICIPIO'].value_counts().head(10)   # (ajuste o nome conforme seu arquivo)\n"
   ]
  },
  {
   "cell_type": "markdown",
   "id": "29d83d02",
   "metadata": {},
   "source": [
    "\n",
    "## 🧹 Padronização inicial (nomes e textos)\n",
    "Padronizar cedo evita erros em filtros e junções.\n"
   ]
  },
  {
   "cell_type": "code",
   "execution_count": null,
   "id": "1d887617",
   "metadata": {},
   "outputs": [],
   "source": [
    "\n",
    "# @title Padronização de nomes de colunas e textos\n",
    "df_poke.columns = (df_poke.columns\n",
    "                   .str.strip()\n",
    "                   .str.lower()\n",
    "                   .str.replace(' ', '_', regex=False))\n",
    "\n",
    "df_escolas.columns = (df_escolas.columns\n",
    "                      .str.strip()\n",
    "                      .str.lower()\n",
    "                      .str.replace(' ', '_', regex=False))\n",
    "\n",
    "if 'no_municipio' in df_escolas.columns:\n",
    "    df_escolas['no_municipio'] = df_escolas['no_municipio'].astype(str).str.strip().str.title()\n",
    "\n",
    "if 'tipo' in df_poke.columns:\n",
    "    df_poke['tipo'] = df_poke['tipo'].astype(str).str.strip().str.lower()\n",
    "\n",
    "print(\"✅ Padronização aplicada.\")\n",
    "print(\"POKÉMON →\", list(df_poke.columns)[:12], \"...\")\n",
    "print(\"ESCOLAS →\", list(df_escolas.columns)[:12], \"...\")\n"
   ]
  },
  {
   "cell_type": "markdown",
   "id": "6457764f",
   "metadata": {},
   "source": [
    "\n",
    "## 🔢 Convertendo números que vieram como texto (seguro)\n",
    "Alguns CSVs trazem números como texto (vírgula decimal, separador de milhar).  \n",
    "Use a função a seguir para **tentar converter** com segurança.\n"
   ]
  },
  {
   "cell_type": "code",
   "execution_count": null,
   "id": "73c1dd63",
   "metadata": {},
   "outputs": [],
   "source": [
    "\n",
    "# @title Conversão numérica segura (vírgula decimal / milhar)\n",
    "import numpy as np\n",
    "import pandas as pd\n",
    "\n",
    "def to_numeric_safe(serie):\n",
    "    s = serie.astype(str).str.replace('.', '', regex=False)  # remove separador de milhar\n",
    "    s = s.str.replace(',', '.', regex=False)                 # vírgula decimal → ponto\n",
    "    return pd.to_numeric(s, errors='coerce')\n",
    "\n",
    "# Exemplo de uso:\n",
    "possible_numeric_cols = []  # ex.: ['qtd_alunos', 'taxa_aprovacao']\n",
    "for col in possible_numeric_cols:\n",
    "    if col in df_escolas.columns:\n",
    "        df_escolas[col] = to_numeric_safe(df_escolas[col])\n",
    "        print(f\"Coluna convertida para numérico: {col}\")\n"
   ]
  },
  {
   "cell_type": "markdown",
   "id": "c9a6a6cf",
   "metadata": {},
   "source": [
    "\n",
    "## 🧪 Mini-Lab — Para entregar no Classroom\n",
    "**Arquivo:** `UC22_Aula03_Pratica_SeuNome.ipynb`  \n",
    "\n",
    "1. **Mostre** as 5 primeiras e 5 últimas linhas de **cada** dataset.  \n",
    "2. **Exiba**: `shape`, `columns`, `dtypes`, `info()` de cada dataset.  \n",
    "3. **Calcule** nulos por coluna **e** porcentagem de nulos.  \n",
    "4. **Liste** as 10 categorias mais frequentes de **uma** coluna de texto (explique sua escolha).  \n",
    "5. **Padronize** nomes das colunas e uma coluna de texto relevante (ex.: município).  \n",
    "\n",
    "> Dica: copie e adapte as células deste notebook.\n"
   ]
  },
  {
   "cell_type": "markdown",
   "id": "b0c882e4",
   "metadata": {},
   "source": [
    "\n",
    "## 🧯 Erros comuns e soluções rápidas\n",
    "- **UnicodeDecodeError** → troque `encoding` entre `\"utf-8\"` e `\"latin-1\"`.  \n",
    "- **Tudo em 1 coluna** → troque `sep` entre `\",\"` e `\";\"`.  \n",
    "- **Números como texto** → use a função `to_numeric_safe`.  \n",
    "- **Coluna não encontrada** → confirme com `df.columns` e copie/cole o nome exato.\n"
   ]
  },
  {
   "cell_type": "markdown",
   "id": "2009053b",
   "metadata": {},
   "source": [
    "\n",
    "## 📚 Glossário\n",
    "**Pandas**: biblioteca para análise de dados.  \n",
    "**DataFrame**: tabela (linhas × colunas).  \n",
    "**Series**: uma coluna do DataFrame.  \n",
    "**Index**: rótulos das linhas.  \n",
    "**dtype**: tipo de dado da coluna.  \n",
    "**NaN**: valor ausente (faltando).  \n",
    "**encoding**: regra de acentuação (UTF-8, Latin-1).  \n",
    "**sep**: separador das colunas em CSV (`,` ou `;`).\n"
   ]
  }
 ],
 "metadata": {
  "colab": {
   "name": "UC22_Aula03_Pandas_e_DataFrame_ALUNOS.ipynb",
   "provenance": []
  },
  "kernelspec": {
   "display_name": "Python 3",
   "name": "python3"
  },
  "language_info": {
   "name": "python"
  }
 },
 "nbformat": 4,
 "nbformat_minor": 5
}
