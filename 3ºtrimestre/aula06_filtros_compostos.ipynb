{
 "cells": [
  {
   "cell_type": "markdown",
   "id": "5ae8c3c1",
   "metadata": {},
   "source": [
    "\n",
    "# 📘 UC22 – Aula 6 — Filtros Compostos (Pandas)\n",
    "\n",
    "![Python](https://img.shields.io/badge/Python-3.11+-blue?logo=python)\n",
    "![Pandas](https://img.shields.io/badge/Pandas-Filtros%20Compostos-green?logo=pandas)\n",
    "![Google Colab](https://img.shields.io/badge/Google%20Colab-Notebook-yellow?logo=googlecolab)\n",
    "![Tempo](https://img.shields.io/badge/Dura%C3%A7%C3%A3o-90%20min-red)\n",
    "![N%C3%ADvel](https://img.shields.io/badge/N%C3%ADvel-Iniciante%E2%9E%9CIntermedi%C3%81rio-purple)\n",
    "\n",
    "**Turma:** 3º Ano – Ensino Médio Técnico em Informática  \n",
    "**Tema:** Combinação de condições (E/OU/NÃO) para filtrar linhas em DataFrames  \n",
    "**Ferramenta principal:** Google Colab\n",
    "\n",
    "> “Filtros compostos são como estratégias de batalha: o segredo está na **combinação**.” – IAra ⚔️\n"
   ]
  },
  {
   "cell_type": "markdown",
   "id": "aaadab08",
   "metadata": {},
   "source": [
    "\n",
    "## 🎯 Objetivos de Aprendizagem\n",
    "- Combinar condições com **AND (`&`)**, **OR (`|`)** e **NOT (`~`)** no Pandas.  \n",
    "- Usar **parênteses** corretamente (ordem de avaliação).  \n",
    "- Criar filtros robustos com `isin`, `between`, `str.contains` (com `na=False`).  \n",
    "- Alternar entre sintaxe padrão e **`.query()`** (com variáveis via `@`).  \n",
    "- Montar **máscaras booleanas** reutilizáveis (código claro e legível).\n"
   ]
  },
  {
   "cell_type": "markdown",
   "id": "05c226e1",
   "metadata": {},
   "source": [
    "\n",
    "## 📂 Preparação do Ambiente (Google Drive)\n",
    "Usaremos os mesmos arquivos das aulas anteriores, mantidos em **`Meu Drive/UC22/`**:\n",
    "\n",
    "- `pokemons_pokedex.csv`  \n",
    "- `escolas_estaduais_censo_escolar_2023.csv`\n"
   ]
  },
  {
   "cell_type": "code",
   "execution_count": null,
   "id": "b06257b1",
   "metadata": {},
   "outputs": [],
   "source": [
    "\n",
    "# 📂 Montando o Google Drive\n",
    "from google.colab import drive\n",
    "drive.mount('/content/drive')\n",
    "\n",
    "# 🐍 Importações essenciais\n",
    "import pandas as pd\n",
    "\n",
    "# 🗂️ Definição dos caminhos (ajuste conforme sua pasta)\n",
    "caminho_poke = \"/content/drive/MyDrive/UC22/pokemons_pokedex.csv\"\n",
    "caminho_escolas = \"/content/drive/MyDrive/UC22/escolas_estaduais_censo_escolar_2023.csv\"\n",
    "\n",
    "# 📥 Leitura dos datasets com codificação apropriada\n",
    "df_poke = pd.read_csv(caminho_poke, encoding=\"utf-8\")\n",
    "df_escolas = pd.read_csv(caminho_escolas, encoding=\"latin-1\", sep=\",\")\n",
    "\n",
    "# 🧹 Padronização de nomes de colunas (minúsculas, sem espaços)\n",
    "df_poke.columns    = df_poke.columns.str.strip().str.lower().str.replace(\" \", \"_\", regex=False)\n",
    "df_escolas.columns = df_escolas.columns.str.strip().str.lower().str.replace(\" \", \"_\", regex=False)\n",
    "\n",
    "# 🔤 Padronização opcional para facilitar filtros de texto\n",
    "if \"no_municipio\" in df_escolas.columns:\n",
    "    df_escolas[\"no_municipio\"] = df_escolas[\"no_municipio\"].astype(str).strip().str.upper()\n",
    "\n",
    "print(\"✅ Pokémon:\", df_poke.shape, \" | colunas:\", len(df_poke.columns))\n",
    "print(\"✅ Escolas:\", df_escolas.shape, \" | colunas:\", len(df_escolas.columns))\n",
    "\n",
    "# 🔎 Visualize as primeiras colunas para confirmar nomes\n",
    "list(df_poke.columns)[:15]\n"
   ]
  },
  {
   "cell_type": "markdown",
   "id": "468271bd",
   "metadata": {},
   "source": [
    "\n",
    "## 🧠 Revisão Rápida (Aula 5 → Aula 6)\n",
    "- Filtro **simples**: uma condição (ex.: `df['attack'] > 100`).  \n",
    "- Filtros **compostos**: **duas ou mais condições** combinadas (ex.: ataque alto **E** velocidade alta).  \n",
    "- Após a leitura, **padronizamos os nomes de colunas** para minúsculas e com `_`.\n"
   ]
  },
  {
   "cell_type": "markdown",
   "id": "9166c482",
   "metadata": {},
   "source": [
    "\n",
    "## 1) Operadores lógicos no Pandas (entre *Series* booleanas)\n",
    "- **AND:** `cond1 & cond2` → ambas verdadeiras  \n",
    "- **OR:** `cond1 | cond2` → pelo menos uma verdadeira  \n",
    "- **NOT:** `~cond` → inverte True/False\n",
    "\n",
    "⚠️ **Importante:** Sempre use **parênteses** envolvendo cada condição!\n"
   ]
  },
  {
   "cell_type": "code",
   "execution_count": null,
   "id": "aad610da",
   "metadata": {},
   "outputs": [],
   "source": [
    "\n",
    "# 🎯 Exemplo 1 — Água E rápida E defensiva moderada\n",
    "# Objetivo: Pokémon do tipo Água com Speed > 70 E Defense >= 60\n",
    "cond_tipo   = df_poke['type_1'] == 'Water'\n",
    "cond_speed  = df_poke['speed'] > 70\n",
    "cond_def    = df_poke['defense'] >= 60\n",
    "\n",
    "mask = cond_tipo & cond_speed & cond_def  # AND entre as condições\n",
    "agua_rapida_defensiva = df_poke[mask][['name','type_1','defense','speed','attack']].copy()\n",
    "\n",
    "print(\"Qtd Água & Speed>70 & Defense>=60:\", agua_rapida_defensiva.shape[0])\n",
    "agua_rapida_defensiva.head(10)\n"
   ]
  },
  {
   "cell_type": "code",
   "execution_count": null,
   "id": "246e2c37",
   "metadata": {},
   "outputs": [],
   "source": [
    "\n",
    "# 🎯 Exemplo 2 — Fogo OU Gelo com ataque alto (>100)\n",
    "cond_tipo  = (df_poke['type_1'] == 'Fire') | (df_poke['type_1'] == 'Ice')\n",
    "cond_atk   = df_poke['attack'] > 100\n",
    "\n",
    "mask = cond_tipo & cond_atk  # (Fogo OU Gelo) E ataque alto\n",
    "fogo_ou_gelo_fortes = df_poke[mask][['name','type_1','attack','speed']].copy()\n",
    "fogo_ou_gelo_fortes.head(10)\n"
   ]
  },
  {
   "cell_type": "code",
   "execution_count": null,
   "id": "621c0205",
   "metadata": {},
   "outputs": [],
   "source": [
    "\n",
    "# 🎯 Exemplo 3 — NÃO lendário e muito veloz (Speed >= 120)\n",
    "col_leg = 'legendary' if 'legendary' in df_poke.columns else None\n",
    "\n",
    "if col_leg:\n",
    "    mask = (~df_poke[col_leg]) & (df_poke['speed'] >= 120)\n",
    "    nao_lendarios_rapidos = df_poke[mask][['name','type_1','speed', col_leg]].copy()\n",
    "    nao_lendarios_rapidos.head(10)\n",
    "else:\n",
    "    print(\"⚠️ Coluna 'legendary' não encontrada. Verifique df_poke.columns\")\n"
   ]
  },
  {
   "cell_type": "markdown",
   "id": "c96278c7",
   "metadata": {},
   "source": [
    "\n",
    "## 2) Funções úteis para compor filtros\n",
    "### 2.1 `isin` — pertence a uma lista\n"
   ]
  },
  {
   "cell_type": "code",
   "execution_count": null,
   "id": "3b840304",
   "metadata": {},
   "outputs": [],
   "source": [
    "\n",
    "# 🎯 Tipos alvo: Electric, Psychic, Dragon\n",
    "alvos = ['Electric','Psychic','Dragon']\n",
    "mask  = df_poke['type_1'].isin(alvos)\n",
    "df_poke[mask][['name','type_1','attack','speed']].head(10)\n"
   ]
  },
  {
   "cell_type": "markdown",
   "id": "99691757",
   "metadata": {},
   "source": [
    "\n",
    "### 2.2 `between` — intervalo fechado [min, max]\n"
   ]
  },
  {
   "cell_type": "code",
   "execution_count": null,
   "id": "f8bbaf59",
   "metadata": {},
   "outputs": [],
   "source": [
    "\n",
    "# 🎯 Attack entre 80 e 100 (inclusive), e Speed >= 80\n",
    "mask = df_poke['attack'].between(80, 100) & (df_poke['speed'] >= 80)\n",
    "df_poke[mask][['name','type_1','attack','speed']].head(10)\n"
   ]
  },
  {
   "cell_type": "markdown",
   "id": "fc40940b",
   "metadata": {},
   "source": [
    "\n",
    "### 2.3 `str.contains` — filtro de texto (com segurança contra NaN)\n"
   ]
  },
  {
   "cell_type": "code",
   "execution_count": null,
   "id": "dcb1e5cf",
   "metadata": {},
   "outputs": [],
   "source": [
    "\n",
    "# 🎯 Nomes que contêm 'mega' (qualquer caso), sem quebrar em valores NaN\n",
    "mask_nome = df_poke['name'].astype(str).str.contains('mega', case=False, na=False)\n",
    "df_poke[mask_nome][['name','type_1','attack','defense','speed']].head(10)\n"
   ]
  },
  {
   "cell_type": "markdown",
   "id": "73daf4b2",
   "metadata": {},
   "source": [
    "\n",
    "## 3) `.query()` como alternativa mais legível\n",
    "- Escreva condições como texto, semelhante a SQL.  \n",
    "- Use `@variavel` para passar listas/valores Python.\n"
   ]
  },
  {
   "cell_type": "code",
   "execution_count": null,
   "id": "fd3a5196",
   "metadata": {},
   "outputs": [],
   "source": [
    "\n",
    "# 🎯 Exemplo com .query(): tipo em lista e ataque alto\n",
    "tipos    = ['Fire','Ice']\n",
    "ataque_corte = 100\n",
    "\n",
    "resultado = df_poke.query(\"type_1 in @tipos and attack > @ataque_corte\")[['name','type_1','attack','speed']].copy()\n",
    "resultado.head(10)\n"
   ]
  },
  {
   "cell_type": "markdown",
   "id": "340b6c1c",
   "metadata": {},
   "source": [
    "\n",
    "## 4) Máscaras booleanas reutilizáveis (código limpo e legível)\n"
   ]
  },
  {
   "cell_type": "code",
   "execution_count": null,
   "id": "662de850",
   "metadata": {},
   "outputs": [],
   "source": [
    "\n",
    "# 🎯 Time ofensivo: Attack > 110 E Speed > 95, NÃO lendário\n",
    "col_leg = 'legendary' if 'legendary' in df_poke.columns else None\n",
    "\n",
    "cond_ofensivo = (df_poke['attack'] > 110) & (df_poke['speed'] > 95)\n",
    "cond_nao_leg  = ~df_poke[col_leg] if col_leg else True\n",
    "\n",
    "mask_time = cond_ofensivo & cond_nao_leg\n",
    "time_ofensivo = df_poke[mask_time].copy()\n",
    "\n",
    "# Ordenamos para facilitar a escolha final\n",
    "time_ofensivo = time_ofensivo.sort_values(by=['attack','speed'], ascending=False)\n",
    "time_ofensivo[['name','type_1','attack','speed']].head(15)\n"
   ]
  },
  {
   "cell_type": "markdown",
   "id": "30cfa82f",
   "metadata": {},
   "source": [
    "\n",
    "## 5) Aplicando filtros compostos no dataset de Escolas (texto + OU/AND)\n"
   ]
  },
  {
   "cell_type": "code",
   "execution_count": null,
   "id": "5ae67464",
   "metadata": {},
   "outputs": [],
   "source": [
    "\n",
    "# 🎯 Ex.: escolas em CAMPINAS OU SANTOS, com dependência ESTADUAL\n",
    "if {'no_municipio','tp_dependencia'}.issubset(df_escolas.columns):\n",
    "    cidades = ['CAMPINAS','SANTOS']\n",
    "    mask_cidade = df_escolas['no_municipio'].isin(cidades)\n",
    "    mask_dep    = df_escolas['tp_dependencia'].astype(str).str.upper().str.contains('ESTADUAL', na=False)\n",
    "\n",
    "    escolas_alvo = df_escolas[mask_cidade & mask_dep][['no_entidade','no_municipio','tp_dependencia']].copy()\n",
    "    print(\"Qtd escolas (Campinas ou Santos, Estadual):\", escolas_alvo.shape[0])\n",
    "    escolas_alvo.head(10)\n",
    "else:\n",
    "    print(\"⚠️ Verifique as colunas: no_municipio / tp_dependencia\")\n"
   ]
  },
  {
   "cell_type": "markdown",
   "id": "15488435",
   "metadata": {},
   "source": [
    "\n",
    "## ✅ Mini-Lab (entregar no Classroom)\n",
    "**Arquivo:** `UC22_Aula06_Pratica_SeuNome.ipynb`\n",
    "\n",
    "### Parte 1 — Pokémon\n",
    "1. **Defensores Ágeis:** Liste Pokémon com **defense ≥ 100** **E** **speed ≥ 90**. Mostre `name`, `type_1`, `defense`, `speed`, **ordenando** por `defense` (desc) e depois `speed` (desc).  \n",
    "2. **Ataque “na régua”:** Selecione Pokémon com `attack` **entre 80 e 100** (inclusive) **OU** que sejam do tipo **Electric**. Mostre `name`, `type_1`, `attack`.  \n",
    "3. **Filtro de texto seguro:** Encontre Pokémon cujo `name` contenha “mega” (qualquer caso) **E** `attack > 100`. Mostre `name`, `type_1`, `attack`.  \n",
    "4. **Listas de tipos:** Usando `isin`, filtre Pokémon cujo `type_1` pertença a **['Water','Grass','Ground']** **E** `hp ≥ 80`. Mostre `name`, `type_1`, `hp`.\n",
    "\n",
    "### Parte 2 — Escolas\n",
    "1. Selecione escolas em **CAMPINAS OU SANTOS** **E** com `tp_dependencia` contendo **“ESTADUAL”** (maiúsculas). Mostre `no_entidade`, `no_municipio`, `tp_dependencia`.  \n",
    "2. Se existir a coluna de **código** (ex.: `co_entidade`), filtre escolas com código **entre 35000000 e 35099999** **E** `no_municipio == 'SÃO PAULO'`. Mostre `co_entidade`, `no_entidade`, `no_municipio`.\n",
    "\n",
    "> **Dica:** Crie **máscaras nomeadas** (ex.: `mask_cidade`, `mask_dep`) para deixar o código claro.\n"
   ]
  },
  {
   "cell_type": "markdown",
   "id": "c439ae94",
   "metadata": {},
   "source": [
    "\n",
    "### 📝 Espaço para suas respostas (execute os blocos e comente seus achados)\n"
   ]
  },
  {
   "cell_type": "code",
   "execution_count": null,
   "id": "29998488",
   "metadata": {},
   "outputs": [],
   "source": [
    "\n",
    "# 🔧 Resposta Pokémon 1 — Defensores Ágeis\n",
    "mask = (df_poke['defense'] >= 100) & (df_poke['speed'] >= 90)\n",
    "resp1 = df_poke[mask][['name','type_1','defense','speed']].copy().sort_values(['defense','speed'], ascending=[False, False])\n",
    "print(resp1.shape)\n",
    "resp1.head(15)\n"
   ]
  },
  {
   "cell_type": "code",
   "execution_count": null,
   "id": "b0af1c53",
   "metadata": {},
   "outputs": [],
   "source": [
    "\n",
    "# 🔧 Resposta Pokémon 2 — Attack 80–100 OU Electric\n",
    "mask = df_poke['attack'].between(80, 100) | (df_poke['type_1'] == 'Electric')\n",
    "resp2 = df_poke[mask][['name','type_1','attack']].copy()\n",
    "print(resp2.shape)\n",
    "resp2.head(15)\n"
   ]
  },
  {
   "cell_type": "code",
   "execution_count": null,
   "id": "72c3863a",
   "metadata": {},
   "outputs": [],
   "source": [
    "\n",
    "# 🔧 Resposta Pokémon 3 — name contém 'mega' E attack > 100\n",
    "mask = df_poke['name'].astype(str).str.contains('mega', case=False, na=False) & (df_poke['attack'] > 100)\n",
    "resp3 = df_poke[mask][['name','type_1','attack']].copy()\n",
    "print(resp3.shape)\n",
    "resp3.head(15)\n"
   ]
  },
  {
   "cell_type": "code",
   "execution_count": null,
   "id": "94fa659b",
   "metadata": {},
   "outputs": [],
   "source": [
    "\n",
    "# 🔧 Resposta Pokémon 4 — tipos em lista E hp ≥ 80\n",
    "mask = df_poke['type_1'].isin(['Water','Grass','Ground']) & (df_poke['hp'] >= 80)\n",
    "resp4 = df_poke[mask][['name','type_1','hp']].copy()\n",
    "print(resp4.shape)\n",
    "resp4.head(15)\n"
   ]
  },
  {
   "cell_type": "code",
   "execution_count": null,
   "id": "9e0b2365",
   "metadata": {},
   "outputs": [],
   "source": [
    "\n",
    "# 🔧 Resposta Escolas 1 — CAMPINAS OU SANTOS + Estadual\n",
    "if {'no_municipio','tp_dependencia','no_entidade'}.issubset(df_escolas.columns):\n",
    "    mask_cidade = df_escolas['no_municipio'].isin(['CAMPINAS','SANTOS'])\n",
    "    mask_dep = df_escolas['tp_dependencia'].astype(str).str.upper().str.contains('ESTADUAL', na=False)\n",
    "    resp_escolas1 = df_escolas[mask_cidade & mask_dep][['no_entidade','no_municipio','tp_dependencia']].copy()\n",
    "    print(resp_escolas1.shape)\n",
    "    resp_escolas1.head(15)\n",
    "else:\n",
    "    print(\"Verifique colunas: no_municipio, tp_dependencia, no_entidade\")\n"
   ]
  },
  {
   "cell_type": "code",
   "execution_count": null,
   "id": "d5ebea46",
   "metadata": {},
   "outputs": [],
   "source": [
    "\n",
    "# 🔧 Resposta Escolas 2 — Código por faixa E município SÃO PAULO (se existir co_entidade)\n",
    "if {'co_entidade','no_municipio','no_entidade'}.issubset(df_escolas.columns):\n",
    "    mask_codigo = df_escolas['co_entidade'].between(35000000, 35099999)\n",
    "    mask_mun = df_escolas['no_municipio'] == 'SÃO PAULO'\n",
    "    resp_escolas2 = df_escolas[mask_codigo & mask_mun][['co_entidade','no_entidade','no_municipio']].copy()\n",
    "    print(resp_escolas2.shape)\n",
    "    resp_escolas2.head(15)\n",
    "else:\n",
    "    print(\"Colunas necessárias não encontradas. Use df_escolas.columns para investigar.\")\n"
   ]
  },
  {
   "cell_type": "markdown",
   "id": "14968031",
   "metadata": {},
   "source": [
    "\n",
    "## 🧯 Erros Comuns e Dicas\n",
    "- **Faltam parênteses:** `cond1 & cond2` → **sempre** `(cond1) & (cond2)`.  \n",
    "- **`and`/`or`/`not`:** em Pandas, use `&`, `|`, `~` (os do Python lógico não funcionam entre Series).  \n",
    "- **`KeyError`**: nome de coluna errado → confira `df.columns`.  \n",
    "- **`str.contains` com NaN:** use `na=False` e `astype(str)` para evitar erros.  \n",
    "- **Tipos mistos:** ao comparar números, garanta tipo numérico com `pd.to_numeric()` se necessário.  \n",
    "- **Filtro vazio:** não é erro; significa “nenhuma linha atende às condições”.\n"
   ]
  },
  {
   "cell_type": "markdown",
   "id": "5b7f03e2",
   "metadata": {},
   "source": [
    "\n",
    "## 📎 Conclusão\n",
    "Você aprendeu a **combinar condições** para criar filtros poderosos e legíveis.  \n",
    "Na **Aula 7**, vamos para **Agrupamentos com `groupby()`** — médias por tipo, contagens por categoria, top-N por grupo… o coração das análises comparativas!\n"
   ]
  },
  {
   "cell_type": "markdown",
   "id": "2d4e47a6",
   "metadata": {},
   "source": [
    "\n",
    "---\n",
    "*Notebook gerado em: 2025-09-12 12:59:02*\n"
   ]
  }
 ],
 "metadata": {
  "language_info": {
   "name": "python"
  }
 },
 "nbformat": 4,
 "nbformat_minor": 5
}
