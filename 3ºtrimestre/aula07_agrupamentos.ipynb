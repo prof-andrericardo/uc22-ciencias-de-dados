{
 "cells": [
  {
   "cell_type": "markdown",
   "id": "01f931e7",
   "metadata": {},
   "source": [
    "\n",
    "# 📘 UC22 – Aula 7 — Agrupamentos com `groupby()` (Pandas)\n",
    "\n",
    "![Python](https://img.shields.io/badge/Python-3.11+-blue?logo=python)\n",
    "![Pandas](https://img.shields.io/badge/Pandas-groupby-green?logo=pandas)\n",
    "![Google Colab](https://img.shields.io/badge/Google%20Colab-Notebook-yellow?logo=googlecolab)\n",
    "![Tempo](https://img.shields.io/badge/Dura%C3%A7%C3%A3o-90%20min-red)\n",
    "![N%C3%ADvel](https://img.shields.io/badge/N%C3%ADvel-Iniciante%E2%9E%9CIntermedi%C3%81rio-purple)\n",
    "\n",
    "**Turma:** 3º Ano – Ensino Médio Técnico em Informática  \n",
    "**Tema:** Agrupamentos e estatísticas por grupo com `groupby()`  \n",
    "**Ferramenta principal:** Google Colab\n",
    "\n",
    "> “Agrupar é comparar com contexto: só entendemos um valor quando olhamos o **grupo** ao redor.” – IAra 🧠\n"
   ]
  },
  {
   "cell_type": "markdown",
   "id": "25e05814",
   "metadata": {},
   "source": [
    "\n",
    "## 🎯 Objetivos de Aprendizagem\n",
    "- Usar `groupby()` para **agrupar por uma ou mais colunas**.  \n",
    "- Calcular **estatísticas** por grupo: `count`, `mean`, `sum`, `min`, `max`, `median`, `std`.  \n",
    "- Aplicar **agregações múltiplas** com `.agg({...})`.  \n",
    "- **Ordenar** e **formatar** resultados agregados.  \n",
    "- Criar **Top-N por grupo** com `head`, `nlargest` e `sort_values`.  \n",
    "- (Opcional) **Plotar** gráficos simples a partir de agregações.\n"
   ]
  },
  {
   "cell_type": "markdown",
   "id": "dcba9c11",
   "metadata": {},
   "source": [
    "\n",
    "## 📂 Preparação do Ambiente (Google Drive)\n",
    "Usaremos os mesmos arquivos das aulas anteriores em **`Meu Drive/UC22/`**:\n",
    "\n",
    "- `pokemons_pokedex.csv`  \n",
    "- `escolas_estaduais_censo_escolar_2023.csv`\n"
   ]
  },
  {
   "cell_type": "code",
   "execution_count": null,
   "id": "85adb0a9",
   "metadata": {},
   "outputs": [],
   "source": [
    "\n",
    "# 📂 Montando o Google Drive\n",
    "from google.colab import drive\n",
    "drive.mount('/content/drive')\n",
    "\n",
    "# 🐍 Importações essenciais\n",
    "import pandas as pd\n",
    "\n",
    "# 🗂️ Definição dos caminhos (ajuste conforme sua pasta)\n",
    "caminho_poke = \"/content/drive/MyDrive/UC22/pokemons_pokedex.csv\"\n",
    "caminho_escolas = \"/content/drive/MyDrive/UC22/escolas_estaduais_censo_escolar_2023.csv\"\n",
    "\n",
    "# 📥 Leitura dos datasets\n",
    "df_poke = pd.read_csv(caminho_poke, encoding=\"utf-8\")\n",
    "df_escolas = pd.read_csv(caminho_escolas, encoding=\"latin-1\", sep=\",\")\n",
    "\n",
    "# 🧹 Padronização de nomes de colunas\n",
    "df_poke.columns    = df_poke.columns.str.strip().str.lower().str.replace(\" \", \"_\", regex=False)\n",
    "df_escolas.columns = df_escolas.columns.str.strip().str.lower().str.replace(\" \", \"_\", regex=False)\n",
    "\n",
    "# 🔠 Ajuste opcional para facilitar filtros de texto em escolas\n",
    "if \"no_municipio\" in df_escolas.columns:\n",
    "    df_escolas[\"no_municipio\"] = df_escolas[\"no_municipio\"].astype(str).str.strip().str.upper()\n",
    "\n",
    "print(\"✅ Pokémon:\", df_poke.shape, \" | colunas:\", len(df_poke.columns))\n",
    "print(\"✅ Escolas:\", df_escolas.shape, \" | colunas:\", len(df_escolas.columns))\n",
    "\n",
    "# 👀 Conferir primeiras colunas\n",
    "list(df_poke.columns)[:15]\n"
   ]
  },
  {
   "cell_type": "markdown",
   "id": "6320134f",
   "metadata": {},
   "source": [
    "\n",
    "## 1) O que é `groupby()`?\n",
    "`groupby()` agrupa linhas que têm o **mesmo valor** em uma (ou mais) colunas e permite calcular **estatísticas por grupo**.\n"
   ]
  },
  {
   "cell_type": "code",
   "execution_count": null,
   "id": "6c0eaa0d",
   "metadata": {},
   "outputs": [],
   "source": [
    "\n",
    "# 🎯 Exemplo básico — médias por tipo (Pokémon)\n",
    "media_por_tipo = (\n",
    "    df_poke.groupby('type_1')[['attack','defense','speed','hp']]\n",
    "           .mean()\n",
    "           .round(2)\n",
    ")\n",
    "media_por_tipo.head(10)\n"
   ]
  },
  {
   "cell_type": "markdown",
   "id": "138b4daf",
   "metadata": {},
   "source": [
    "\n",
    "## 2) Funções de agregação comuns\n",
    "- `count()`, `mean()`, `sum()`, `min()`, `max()`, `median()`, `std()`\n"
   ]
  },
  {
   "cell_type": "code",
   "execution_count": null,
   "id": "80cf629b",
   "metadata": {},
   "outputs": [],
   "source": [
    "\n",
    "# 🎯 Agregações múltiplas com .agg()\n",
    "agr = (\n",
    "    df_poke.groupby('type_1')\n",
    "           .agg(\n",
    "               qtd=('name', 'count'),\n",
    "               media_atk=('attack', 'mean'),\n",
    "               media_def=('defense', 'mean'),\n",
    "               media_spd=('speed', 'mean'),\n",
    "               media_hp=('hp', 'mean'),\n",
    "               atk_max=('attack', 'max'),\n",
    "               spd_max=('speed', 'max')\n",
    "           )\n",
    "           .round(2)\n",
    "           .sort_values('media_atk', ascending=False)\n",
    ")\n",
    "agr.head(10)\n"
   ]
  },
  {
   "cell_type": "markdown",
   "id": "f3eada38",
   "metadata": {},
   "source": [
    "\n",
    "## 3) Agrupar por **múltiplas colunas**\n"
   ]
  },
  {
   "cell_type": "code",
   "execution_count": null,
   "id": "bc28f320",
   "metadata": {},
   "outputs": [],
   "source": [
    "\n",
    "# 🎯 Média de Attack por combinação (type_1, generation) — se existir a coluna\n",
    "col_gen = 'generation' if 'generation' in df_poke.columns else None\n",
    "\n",
    "if col_gen:\n",
    "    media_tipo_gen = df_poke.groupby(['type_1', col_gen])['attack'].mean().round(2)\n",
    "    media_tipo_gen.head(10)\n",
    "else:\n",
    "    print(\"⚠️ Coluna 'generation' não encontrada; pulando exemplo 3.\")\n"
   ]
  },
  {
   "cell_type": "markdown",
   "id": "26d571a2",
   "metadata": {},
   "source": [
    "\n",
    "## 4) Selecionar **Top-N por grupo**\n",
    "Duas estratégias úteis:  \n",
    "- **Ordenar + `groupby().head(N)`**  \n",
    "- `groupby().apply(lambda g: g.nlargest(N, 'coluna'))`\n"
   ]
  },
  {
   "cell_type": "code",
   "execution_count": null,
   "id": "f5fb562c",
   "metadata": {},
   "outputs": [],
   "source": [
    "\n",
    "# 🎯 Top 5 por ataque em cada tipo\n",
    "top5_por_tipo = (\n",
    "    df_poke\n",
    "      .sort_values(['type_1','attack'], ascending=[True, False])\n",
    "      .groupby('type_1')\n",
    "      .head(5)[['name','type_1','attack','defense','speed']]\n",
    ")\n",
    "top5_por_tipo.head(15)\n"
   ]
  },
  {
   "cell_type": "code",
   "execution_count": null,
   "id": "e1a14950",
   "metadata": {},
   "outputs": [],
   "source": [
    "\n",
    "# 🎯 Top 3 por velocidade em cada tipo (nlargest)\n",
    "top3_speed_tipo = (\n",
    "    df_poke.groupby('type_1', group_keys=False)\n",
    "           .apply(lambda g: g.nlargest(3, 'speed'))[['name','type_1','speed','attack']]\n",
    ")\n",
    "top3_speed_tipo.head(12)\n"
   ]
  },
  {
   "cell_type": "markdown",
   "id": "f562d1aa",
   "metadata": {},
   "source": [
    "\n",
    "## 5) Formatação e renomeação para leitura\n"
   ]
  },
  {
   "cell_type": "code",
   "execution_count": null,
   "id": "3e90fc43",
   "metadata": {},
   "outputs": [],
   "source": [
    "\n",
    "tabela = (\n",
    "    df_poke.groupby('type_1')\n",
    "           .agg(qtd=('name','count'),\n",
    "                atk_med=('attack','mean'),\n",
    "                def_med=('defense','mean'),\n",
    "                spd_med=('speed','mean'),\n",
    "                hp_med=('hp','mean'))\n",
    "           .round(1)\n",
    "           .sort_values(['atk_med','spd_med'], ascending=[False, False])\n",
    ")\n",
    "tabela.reset_index().head(10)\n"
   ]
  },
  {
   "cell_type": "markdown",
   "id": "98950d25",
   "metadata": {},
   "source": [
    "\n",
    "## 6) (Opcional) Gráficos a partir de agregações\n"
   ]
  },
  {
   "cell_type": "code",
   "execution_count": null,
   "id": "81e87ef9",
   "metadata": {},
   "outputs": [],
   "source": [
    "\n",
    "import matplotlib.pyplot as plt\n",
    "\n",
    "# 🎯 Barras: quantidade de Pokémon por tipo (Top 10)\n",
    "contagem_tipo = df_poke['type_1'].value_counts().head(10)\n",
    "ax = contagem_tipo.plot(kind='bar', figsize=(8,4))\n",
    "ax.set_title('Top 10 tipos por quantidade de Pokémon')\n",
    "ax.set_xlabel('type_1')\n",
    "ax.set_ylabel('Quantidade')\n",
    "plt.tight_layout()\n",
    "plt.show()\n"
   ]
  },
  {
   "cell_type": "markdown",
   "id": "fda45142",
   "metadata": {},
   "source": [
    "\n",
    "## 7) Aplicando `groupby()` no dataset de Escolas\n"
   ]
  },
  {
   "cell_type": "code",
   "execution_count": null,
   "id": "30fe3a4d",
   "metadata": {},
   "outputs": [],
   "source": [
    "\n",
    "# 🎯 7.1 Contagem de escolas por município (Top 10)\n",
    "if 'no_municipio' in df_escolas.columns:\n",
    "    top10_mun = df_escolas['no_municipio'].value_counts().head(10)\n",
    "    top10_mun\n",
    "else:\n",
    "    print(\"⚠️ Coluna 'no_municipio' não encontrada.\")\n",
    "\n",
    "# 🎯 7.2 Agrupar por dependência administrativa (se existir)\n",
    "if 'tp_dependencia' in df_escolas.columns and 'no_entidade' in df_escolas.columns:\n",
    "    dep = df_escolas.groupby('tp_dependencia')['no_entidade'].count().sort_values(ascending=False)\n",
    "    dep\n",
    "else:\n",
    "    print(\"⚠️ Colunas para dependência administrativa não encontradas.\")\n"
   ]
  },
  {
   "cell_type": "markdown",
   "id": "b5c2cba9",
   "metadata": {},
   "source": [
    "\n",
    "## ✅ Mini-Lab (entregar no Classroom)\n",
    "**Arquivo:** `UC22_Aula07_Pratica_SeuNome.ipynb`\n",
    "\n",
    "### Parte 1 — Pokémon\n",
    "1. **Médias por tipo:** Tabela com `qtd`, `atk_med`, `def_med`, `spd_med`, `hp_med` por `type_1` (2 casas) e **ordene** por `atk_med` (desc) e `spd_med` (desc).  \n",
    "2. **Top 5 ataque por tipo:** Os **5 maiores `attack`** dentro de cada `type_1` (mostre `name`, `type_1`, `attack`, `speed`).  \n",
    "3. **Top 3 velocidade por tipo:** Usando `nlargest`, retorne os **3 mais rápidos** por `type_1`.  \n",
    "4. **Médias por (type_1, generation)** – se existir `generation`: média de `attack` e `speed` por `(type_1, generation)`.\n",
    "\n",
    "### Parte 2 — Escolas\n",
    "1. **Top 10 municípios:** Mostre os 10 municípios com **maior número de escolas**.  \n",
    "2. **Dependência administrativa:** Agrupe por `tp_dependencia` e mostre a contagem de escolas (ordem desc).\n",
    "\n",
    "> **Dica:** Use `.reset_index()` quando precisar transformar o índice em coluna para ordenar/formatar.\n"
   ]
  },
  {
   "cell_type": "markdown",
   "id": "ce0ab955",
   "metadata": {},
   "source": [
    "\n",
    "### 📝 Espaço para suas respostas (execute os blocos e comente seus achados)\n"
   ]
  },
  {
   "cell_type": "code",
   "execution_count": null,
   "id": "9e3c8e2c",
   "metadata": {},
   "outputs": [],
   "source": [
    "\n",
    "# 🔧 Resposta Pokémon 1 — Médias por tipo (ordenadas)\n",
    "resp1 = (\n",
    "    df_poke.groupby('type_1')\n",
    "           .agg(qtd=('name','count'),\n",
    "                atk_med=('attack','mean'),\n",
    "                def_med=('defense','mean'),\n",
    "                spd_med=('speed','mean'),\n",
    "                hp_med=('hp','mean'))\n",
    "           .round(2)\n",
    "           .sort_values(['atk_med','spd_med'], ascending=[False, False])\n",
    ").reset_index()\n",
    "resp1.head(15)\n"
   ]
  },
  {
   "cell_type": "code",
   "execution_count": null,
   "id": "36497e4d",
   "metadata": {},
   "outputs": [],
   "source": [
    "\n",
    "# 🔧 Resposta Pokémon 2 — Top 5 ataque por tipo\n",
    "resp2 = (\n",
    "    df_poke.sort_values(['type_1','attack'], ascending=[True, False])\n",
    "           .groupby('type_1')\n",
    "           .head(5)[['name','type_1','attack','speed']]\n",
    ")\n",
    "resp2.head(20)\n"
   ]
  },
  {
   "cell_type": "code",
   "execution_count": null,
   "id": "67ab8489",
   "metadata": {},
   "outputs": [],
   "source": [
    "\n",
    "# 🔧 Resposta Pokémon 3 — Top 3 velocidade por tipo (nlargest)\n",
    "resp3 = (\n",
    "    df_poke.groupby('type_1', group_keys=False)\n",
    "           .apply(lambda g: g.nlargest(3, 'speed'))[['name','type_1','speed','attack']]\n",
    ")\n",
    "resp3.head(20)\n"
   ]
  },
  {
   "cell_type": "code",
   "execution_count": null,
   "id": "135c3da5",
   "metadata": {},
   "outputs": [],
   "source": [
    "\n",
    "# 🔧 Resposta Pokémon 4 — Médias por (type_1, generation) se existir\n",
    "if 'generation' in df_poke.columns:\n",
    "    resp4 = (\n",
    "        df_poke.groupby(['type_1','generation'])[['attack','speed']]\n",
    "               .mean()\n",
    "               .round(2)\n",
    "               .reset_index()\n",
    "    )\n",
    "    resp4.head(20)\n",
    "else:\n",
    "    print(\"⚠️ Coluna 'generation' não encontrada.\")\n"
   ]
  },
  {
   "cell_type": "code",
   "execution_count": null,
   "id": "6f5ab89e",
   "metadata": {},
   "outputs": [],
   "source": [
    "\n",
    "# 🔧 Resposta Escolas 1 — Top 10 municípios\n",
    "if 'no_municipio' in df_escolas.columns:\n",
    "    resp_escolas1 = df_escolas['no_municipio'].value_counts().head(10)\n",
    "    resp_escolas1\n",
    "else:\n",
    "    print(\"⚠️ Coluna 'no_municipio' não encontrada.\")\n"
   ]
  },
  {
   "cell_type": "code",
   "execution_count": null,
   "id": "931871af",
   "metadata": {},
   "outputs": [],
   "source": [
    "\n",
    "# 🔧 Resposta Escolas 2 — Dependência administrativa\n",
    "if {'tp_dependencia','no_entidade'}.issubset(df_escolas.columns):\n",
    "    resp_escolas2 = df_escolas.groupby('tp_dependencia')['no_entidade'].count().sort_values(ascending=False)\n",
    "    resp_escolas2\n",
    "else:\n",
    "    print(\"⚠️ Colunas para dependência administrativa não encontradas.\")\n"
   ]
  },
  {
   "cell_type": "markdown",
   "id": "b8d4d2e2",
   "metadata": {},
   "source": [
    "\n",
    "## 🧯 Erros Comuns e Dicas\n",
    "- **Nome de coluna incorreto** → confira `df.columns`.  \n",
    "- **Agregações em colunas de texto** não fazem sentido; selecione colunas numéricas.  \n",
    "- **Ordenar antes de `groupby().head(N)`** é essencial para Top-N por grupo.  \n",
    "- **`nlargest`** exige colunas numéricas e não aceita `object`.  \n",
    "- **MultiIndex confuso** → aplique `.reset_index()` quando necessário.\n"
   ]
  },
  {
   "cell_type": "markdown",
   "id": "6540f7c2",
   "metadata": {},
   "source": [
    "\n",
    "## 📎 Conclusão\n",
    "Você aprendeu a comparar grupos e extrair **insights** com `groupby()`: médias por tipo, top-N por grupo e contagens por categoria.  \n",
    "Na **Aula 8**, vamos aprofundar **ordenação (`sort_values`) e rankings** para criar análises comparativas ainda mais ricas.\n"
   ]
  },
  {
   "cell_type": "markdown",
   "id": "867b5c0d",
   "metadata": {},
   "source": [
    "\n",
    "---\n",
    "*Notebook gerado em: 2025-09-12 13:10:03*\n"
   ]
  }
 ],
 "metadata": {
  "language_info": {
   "name": "python"
  }
 },
 "nbformat": 4,
 "nbformat_minor": 5
}
