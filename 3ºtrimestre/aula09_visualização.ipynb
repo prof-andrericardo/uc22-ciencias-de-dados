{
 "cells": [
  {
   "cell_type": "markdown",
   "id": "13fc9406",
   "metadata": {},
   "source": [
    "\n",
    "# 📘 UC22 – Aula 9 — Visualização com **Matplotlib**\n",
    "\n",
    "![Python](https://img.shields.io/badge/Python-3.11+-blue?logo=python)\n",
    "![Pandas](https://img.shields.io/badge/Pandas-Data%20Visualization-green?logo=pandas)\n",
    "![Matplotlib](https://img.shields.io/badge/Matplotlib-3.x-orange)\n",
    "![Google Colab](https://img.shields.io/badge/Google%20Colab-Notebook-yellow?logo=googlecolab)\n",
    "![Tempo](https://img.shields.io/badge/Dura%C3%A7%C3%A3o-90%20min-red)\n",
    "![N%C3%ADvel](https://img.shields.io/badge/N%C3%ADvel-Iniciante%E2%9E%9CIntermedi%C3%81rio-purple)\n",
    "\n",
    "**Turma:** 3º Ano – Ensino Médio Técnico em Informática  \n",
    "**Tema:** Gráficos com Matplotlib a partir de DataFrames Pandas  \n",
    "**Ferramenta principal:** Google Colab\n",
    "\n",
    "> “Bons gráficos contam histórias que os números sozinhos não contam.” – IAra 📈\n"
   ]
  },
  {
   "cell_type": "markdown",
   "id": "915b6d3a",
   "metadata": {},
   "source": [
    "\n",
    "## 🎯 Objetivos de Aprendizagem\n",
    "- Criar gráficos básicos com **Matplotlib** usando dados do **Pandas**.  \n",
    "- Entender quando usar **barras, linhas, histogramas, boxplots e dispersão**.  \n",
    "- Ajustar **títulos, rótulos de eixos, rotação** e **layout**.  \n",
    "- Salvar figuras em arquivo (PNG) para entregar no Classroom.  \n",
    "- Aplicar boas práticas de **clareza** e **simplicidade** (um gráfico por vez).\n"
   ]
  },
  {
   "cell_type": "markdown",
   "id": "fa9a7399",
   "metadata": {},
   "source": [
    "\n",
    "## 📂 Preparação do Ambiente (Google Drive)\n",
    "Usaremos os mesmos arquivos das aulas anteriores em **`Meu Drive/UC22/`**:\n",
    "\n",
    "- `pokemons_pokedex.csv`  \n",
    "- `escolas_estaduais_censo_escolar_2023.csv`\n"
   ]
  },
  {
   "cell_type": "code",
   "execution_count": null,
   "id": "58b02c6f",
   "metadata": {},
   "outputs": [],
   "source": [
    "\n",
    "# 📂 Montando o Google Drive\n",
    "from google.colab import drive\n",
    "drive.mount('/content/drive')\n",
    "\n",
    "# 🐍 Importações essenciais\n",
    "import pandas as pd\n",
    "import matplotlib.pyplot as plt\n",
    "\n",
    "# 🗂️ Caminhos (ajuste conforme sua pasta)\n",
    "caminho_poke = \"/content/drive/MyDrive/UC22/pokemons_pokedex.csv\"\n",
    "caminho_escolas = \"/content/drive/MyDrive/UC22/escolas_estaduais_censo_escolar_2023.csv\"\n",
    "\n",
    "# 📥 Leitura dos datasets\n",
    "df_poke = pd.read_csv(caminho_poke, encoding=\"utf-8\")\n",
    "df_escolas = pd.read_csv(caminho_escolas, encoding=\"latin-1\", sep=\",\")\n",
    "\n",
    "# 🧹 Padronização de nomes de colunas (snake_case)\n",
    "df_poke.columns    = df_poke.columns.str.strip().str.lower().str.replace(\" \", \"_\", regex=False)\n",
    "df_escolas.columns = df_escolas.columns.str.strip().str.lower().str.replace(\" \", \"_\", regex=False)\n",
    "\n",
    "# 🔤 Padronização opcional para facilitar filtros de texto\n",
    "if \"no_municipio\" in df_escolas.columns:\n",
    "    df_escolas[\"no_municipio\"] = df_escolas[\"no_municipio\"].astype(str).str.strip().str.upper()\n",
    "\n",
    "print(\"✅ Pokémon:\", df_poke.shape, \" | colunas:\", len(df_poke.columns))\n",
    "print(\"✅ Escolas:\", df_escolas.shape, \" | colunas:\", len(df_escolas.columns))\n",
    "\n",
    "# 👀 Conferir primeiras colunas\n",
    "list(df_poke.columns)[:15]\n"
   ]
  },
  {
   "cell_type": "markdown",
   "id": "cdf192ca",
   "metadata": {},
   "source": [
    "\n",
    "## 🧠 Revisão (Aulas 5–8 → Aula 9)\n",
    "- Já sabemos **filtrar** e **ordenar** dados, além de **agrupar** com `groupby()`.  \n",
    "- Agora vamos **visualizar**: transformar tabelas em **gráficos compreensíveis**.\n"
   ]
  },
  {
   "cell_type": "markdown",
   "id": "4b5bc99f",
   "metadata": {},
   "source": [
    "\n",
    "## 1) Fundamentos de **Matplotlib**\n",
    "- Um gráfico por vez (sem subplots nesta aula).  \n",
    "- Fluxo básico:\n",
    "  1) Preparar os dados (filtrar, ordenar, agrupar).  \n",
    "  2) Criar a figura.  \n",
    "  3) Plotar.  \n",
    "  4) Ajustar título, eixos, rótulos.  \n",
    "  5) `plt.tight_layout()` e `plt.show()`.\n"
   ]
  },
  {
   "cell_type": "markdown",
   "id": "a6787b1d",
   "metadata": {},
   "source": [
    "\n",
    "## 2) 📊 Barras — comparar categorias\n",
    "**Quando usar?** Comparar valores por categoria (ex.: quantidade por tipo).\n"
   ]
  },
  {
   "cell_type": "code",
   "execution_count": null,
   "id": "c4e072c1",
   "metadata": {},
   "outputs": [],
   "source": [
    "\n",
    "# 🎯 Top 10 tipos por quantidade de Pokémon\n",
    "contagem_tipo = df_poke['type_1'].value_counts().head(10)\n",
    "\n",
    "plt.figure(figsize=(8,4))            # 1) criar figura\n",
    "plt.bar(contagem_tipo.index, contagem_tipo.values)  # 2) plotar barras\n",
    "plt.title(\"Top 10 tipos por quantidade de Pokémon\") # 3) título\n",
    "plt.xlabel(\"type_1\")                                  # 4) rótulo eixo X\n",
    "plt.ylabel(\"Quantidade\")                              # 5) rótulo eixo Y\n",
    "plt.xticks(rotation=45, ha=\"right\")                   # 6) girar rótulos\n",
    "plt.tight_layout()                                    # 7) ajustar layout\n",
    "plt.show()                                            # 8) exibir\n"
   ]
  },
  {
   "cell_type": "markdown",
   "id": "bc730505",
   "metadata": {},
   "source": [
    "\n",
    "## 3) 📈 Linhas — evolução/ordem (ranking simples)\n",
    "**Quando usar?** Evolução no tempo ou leitura ordenada (ranking suave).\n"
   ]
  },
  {
   "cell_type": "code",
   "execution_count": null,
   "id": "6c8cb6df",
   "metadata": {},
   "outputs": [],
   "source": [
    "\n",
    "# 🎯 Top 15 velocidades — linha para visualizar tendência decrescente\n",
    "top_speed = df_poke.sort_values(by=\"speed\", ascending=False).head(15)\n",
    "\n",
    "plt.figure(figsize=(8,4))\n",
    "plt.plot(range(len(top_speed)), top_speed[\"speed\"])   # índice como eixo X\n",
    "plt.title(\"Top 15 Pokémon por Velocidade (tendência)\")\n",
    "plt.xlabel(\"Posição no ranking (0–14)\")\n",
    "plt.ylabel(\"Speed\")\n",
    "plt.tight_layout()\n",
    "plt.show()\n"
   ]
  },
  {
   "cell_type": "markdown",
   "id": "3593df34",
   "metadata": {},
   "source": [
    "\n",
    "## 4) 📊 Histograma — distribuição de valores\n",
    "**Quando usar?** Entender como um atributo numérico se distribui.\n"
   ]
  },
  {
   "cell_type": "code",
   "execution_count": null,
   "id": "a16884ab",
   "metadata": {},
   "outputs": [],
   "source": [
    "\n",
    "# 🎯 Distribuição de Attack\n",
    "plt.figure(figsize=(8,4))\n",
    "plt.hist(df_poke[\"attack\"].dropna(), bins=20)  # 20 faixas\n",
    "plt.title(\"Distribuição de Attack (Pokémon)\")\n",
    "plt.xlabel(\"Attack\")\n",
    "plt.ylabel(\"Frequência\")\n",
    "plt.tight_layout()\n",
    "plt.show()\n"
   ]
  },
  {
   "cell_type": "markdown",
   "id": "67b01cee",
   "metadata": {},
   "source": [
    "\n",
    "## 5) 📦 Boxplot — resumo estatístico (mediana, quartis, outliers)\n",
    "**Quando usar?** Comparar distribuição entre grupos ou ver outliers.\n"
   ]
  },
  {
   "cell_type": "code",
   "execution_count": null,
   "id": "d00bb9b3",
   "metadata": {},
   "outputs": [],
   "source": [
    "\n",
    "# 🎯 Boxplot simples — Attack\n",
    "plt.figure(figsize=(6,4))\n",
    "plt.boxplot(df_poke[\"attack\"].dropna(), vert=True)\n",
    "plt.title(\"Boxplot de Attack (Pokémon)\")\n",
    "plt.ylabel(\"Attack\")\n",
    "plt.tight_layout()\n",
    "plt.show()\n"
   ]
  },
  {
   "cell_type": "markdown",
   "id": "f80b17fc",
   "metadata": {},
   "source": [
    "\n",
    "## 6) 🟣 Dispersão (scatter) — relação entre duas variáveis\n",
    "**Quando usar?** Investigar correlação (ex.: Attack vs. Speed).\n"
   ]
  },
  {
   "cell_type": "code",
   "execution_count": null,
   "id": "1f3c2483",
   "metadata": {},
   "outputs": [],
   "source": [
    "\n",
    "# 🎯 Relação entre Attack e Speed\n",
    "amostra = df_poke.dropna(subset=[\"attack\",\"speed\"]).sample(min(200, len(df_poke)), random_state=42)\n",
    "\n",
    "plt.figure(figsize=(6,4))\n",
    "plt.scatter(amostra[\"attack\"], amostra[\"speed\"])\n",
    "plt.title(\"Dispersão: Attack vs Speed (amostra)\")\n",
    "plt.xlabel(\"Attack\")\n",
    "plt.ylabel(\"Speed\")\n",
    "plt.tight_layout()\n",
    "plt.show()\n"
   ]
  },
  {
   "cell_type": "markdown",
   "id": "bbb4aba0",
   "metadata": {},
   "source": [
    "\n",
    "## 7) Aplicando em **Escolas** — ranking de municípios\n"
   ]
  },
  {
   "cell_type": "code",
   "execution_count": null,
   "id": "9f12f7ee",
   "metadata": {},
   "outputs": [],
   "source": [
    "\n",
    "# 🎯 Top 10 municípios com mais escolas\n",
    "if \"no_municipio\" in df_escolas.columns:\n",
    "    top10_mun = df_escolas[\"no_municipio\"].value_counts().head(10)\n",
    "\n",
    "    plt.figure(figsize=(8,4))\n",
    "    plt.bar(top10_mun.index, top10_mun.values)\n",
    "    plt.title(\"Top 10 municípios por número de escolas\")\n",
    "    plt.xlabel(\"Município\")\n",
    "    plt.ylabel(\"Quantidade\")\n",
    "    plt.xticks(rotation=45, ha=\"right\")\n",
    "    plt.tight_layout()\n",
    "    plt.show()\n",
    "else:\n",
    "    print(\"⚠️ Coluna 'no_municipio' não encontrada.\")\n"
   ]
  },
  {
   "cell_type": "markdown",
   "id": "d1f474bf",
   "metadata": {},
   "source": [
    "\n",
    "## 8) 💾 Salvando uma figura (PNG)\n"
   ]
  },
  {
   "cell_type": "code",
   "execution_count": null,
   "id": "625424fe",
   "metadata": {},
   "outputs": [],
   "source": [
    "\n",
    "# 🎯 Exemplo: salvar o boxplot de Attack como PNG\n",
    "plt.figure(figsize=(6,4))\n",
    "plt.boxplot(df_poke[\"attack\"].dropna())\n",
    "plt.title(\"Boxplot de Attack (Pokémon)\")\n",
    "plt.ylabel(\"Attack\")\n",
    "plt.tight_layout()\n",
    "plt.savefig(\"boxplot_attack.png\", dpi=150)  # salva no diretório atual\n",
    "plt.show()\n",
    "\n",
    "print(\"Arquivo salvo: boxplot_attack.png\")\n"
   ]
  },
  {
   "cell_type": "markdown",
   "id": "3d5d1fe6",
   "metadata": {},
   "source": [
    "\n",
    "## ✅ Checklist — Hoje você aprendeu\n",
    "- A criar **barras, linhas, histogramas, boxplots e dispersão**.  \n",
    "- A ajustar **títulos**, **rótulos** e **rotação** de eixos.  \n",
    "- A **salvar** imagens para entregar no Classroom.  \n",
    "- A partir de resultados de **filtro, ordenação e agrupamento**.\n"
   ]
  },
  {
   "cell_type": "markdown",
   "id": "2309963c",
   "metadata": {},
   "source": [
    "\n",
    "## 🧪 Mini-Lab (entregar no Classroom)\n",
    "**Arquivo:** `UC22_Aula09_Pratica_SeuNome.ipynb`\n",
    "\n",
    "### Parte 1 — Pokémon\n",
    "1. **Barras:** Top 10 tipos (`type_1`) por **média de `attack`** (use `groupby` + `mean` e depois gráfico).  \n",
    "2. **Histograma:** Distribuição de `speed` com **30 bins**.  \n",
    "3. **Boxplot:** `defense` (comente o que observou: mediana, cauda, outliers).  \n",
    "4. **Dispersão:** `hp` vs `defense` (amostra de até 300). O que percebe na relação?\n",
    "\n",
    "### Parte 2 — Escolas\n",
    "1. **Barras:** Top 10 municípios por **número de escolas**.  \n",
    "2. **Barras:** Contagem por **`tp_dependencia`** (se existir).\n",
    "\n",
    "> **Regra do curso:** use **matplotlib**, **um gráfico por célula**, **sem definir cores/estilos**.\n"
   ]
  },
  {
   "cell_type": "markdown",
   "id": "5b75f65c",
   "metadata": {},
   "source": [
    "\n",
    "### 📝 Espaço para suas respostas (execute os blocos e comente seus achados)\n"
   ]
  },
  {
   "cell_type": "code",
   "execution_count": null,
   "id": "df175fb1",
   "metadata": {},
   "outputs": [],
   "source": [
    "\n",
    "# 🔧 Resposta Pokémon 1 — Barras: média de attack por type_1 (Top 10)\n",
    "media_attack_tipo = (\n",
    "    df_poke.groupby('type_1')['attack'].mean().sort_values(ascending=False).head(10)\n",
    ")\n",
    "\n",
    "plt.figure(figsize=(8,4))\n",
    "plt.bar(media_attack_tipo.index, media_attack_tipo.values)\n",
    "plt.title(\"Top 10 tipos por média de Attack\")\n",
    "plt.xlabel(\"type_1\")\n",
    "plt.ylabel(\"Média de Attack\")\n",
    "plt.xticks(rotation=45, ha=\"right\")\n",
    "plt.tight_layout()\n",
    "plt.show()\n"
   ]
  },
  {
   "cell_type": "code",
   "execution_count": null,
   "id": "f09dd1cf",
   "metadata": {},
   "outputs": [],
   "source": [
    "\n",
    "# 🔧 Resposta Pokémon 2 — Histograma de speed (30 bins)\n",
    "plt.figure(figsize=(8,4))\n",
    "plt.hist(df_poke['speed'].dropna(), bins=30)\n",
    "plt.title(\"Histograma de Speed (Pokémon)\")\n",
    "plt.xlabel(\"Speed\")\n",
    "plt.ylabel(\"Frequência\")\n",
    "plt.tight_layout()\n",
    "plt.show()\n"
   ]
  },
  {
   "cell_type": "code",
   "execution_count": null,
   "id": "0f85f0e6",
   "metadata": {},
   "outputs": [],
   "source": [
    "\n",
    "# 🔧 Resposta Pokémon 3 — Boxplot de defense\n",
    "plt.figure(figsize=(6,4))\n",
    "plt.boxplot(df_poke['defense'].dropna())\n",
    "plt.title(\"Boxplot de Defense (Pokémon)\")\n",
    "plt.ylabel(\"Defense\")\n",
    "plt.tight_layout()\n",
    "plt.show()\n"
   ]
  },
  {
   "cell_type": "code",
   "execution_count": null,
   "id": "a4a23bbe",
   "metadata": {},
   "outputs": [],
   "source": [
    "\n",
    "# 🔧 Resposta Pokémon 4 — Dispersão: hp vs defense (amostra até 300)\n",
    "amostra = df_poke.dropna(subset=[\"hp\",\"defense\"]).sample(min(300, len(df_poke)), random_state=42)\n",
    "\n",
    "plt.figure(figsize=(6,4))\n",
    "plt.scatter(amostra['hp'], amostra['defense'])\n",
    "plt.title(\"Dispersão: HP vs Defense (amostra)\")\n",
    "plt.xlabel(\"HP\")\n",
    "plt.ylabel(\"Defense\")\n",
    "plt.tight_layout()\n",
    "plt.show()\n"
   ]
  },
  {
   "cell_type": "code",
   "execution_count": null,
   "id": "a1f687a5",
   "metadata": {},
   "outputs": [],
   "source": [
    "\n",
    "# 🔧 Resposta Escolas 1 — Barras: Top 10 municípios (contagem)\n",
    "if \"no_municipio\" in df_escolas.columns:\n",
    "    top10_mun = df_escolas['no_municipio'].value_counts().head(10)\n",
    "    plt.figure(figsize=(8,4))\n",
    "    plt.bar(top10_mun.index, top10_mun.values)\n",
    "    plt.title(\"Top 10 municípios por número de escolas\")\n",
    "    plt.xlabel(\"Município\")\n",
    "    plt.ylabel(\"Quantidade\")\n",
    "    plt.xticks(rotation=45, ha=\"right\")\n",
    "    plt.tight_layout()\n",
    "    plt.show()\n",
    "else:\n",
    "    print(\"⚠️ Coluna 'no_municipio' não encontrada.\")\n"
   ]
  },
  {
   "cell_type": "code",
   "execution_count": null,
   "id": "309f739d",
   "metadata": {},
   "outputs": [],
   "source": [
    "\n",
    "# 🔧 Resposta Escolas 2 — Barras: contagem por tp_dependencia (se existir)\n",
    "if \"tp_dependencia\" in df_escolas.columns:\n",
    "    cont_dep = df_escolas['tp_dependencia'].astype(str).value_counts()\n",
    "    plt.figure(figsize=(6,4))\n",
    "    plt.bar(cont_dep.index, cont_dep.values)\n",
    "    plt.title(\"Contagem por tp_dependencia\")\n",
    "    plt.xlabel(\"tp_dependencia\")\n",
    "    plt.ylabel(\"Quantidade\")\n",
    "    plt.xticks(rotation=45, ha=\"right\")\n",
    "    plt.tight_layout()\n",
    "    plt.show()\n",
    "else:\n",
    "    print(\"⚠️ Coluna 'tp_dependencia' não encontrada.\")\n"
   ]
  },
  {
   "cell_type": "markdown",
   "id": "90acebb0",
   "metadata": {},
   "source": [
    "\n",
    "## 🧯 Erros Comuns e Dicas\n",
    "- **Usar seaborn**: nesta UC, **não use**.  \n",
    "- **Vários gráficos no mesmo plot**: evite; um gráfico por célula.  \n",
    "- **Definir cores/estilos**: **não personalize** cores/tema.  \n",
    "- **Texto cortado**: use `plt.xticks(rotation=...)` e `plt.tight_layout()`.  \n",
    "- **Escalas confusas**: cheque se sua métrica está no eixo correto.\n"
   ]
  },
  {
   "cell_type": "markdown",
   "id": "31fe0d81",
   "metadata": {},
   "source": [
    "\n",
    "## 📎 Conclusão\n",
    "Você aprendeu a transformar tabelas em gráficos claros usando **Matplotlib**: barras, linhas, histogramas, boxplots e dispersões.  \n",
    "Com isso, conseguimos **comunicar insights** que vieram das aulas de filtros, ordenação e agrupamento.\n"
   ]
  },
  {
   "cell_type": "markdown",
   "id": "5ce8e228",
   "metadata": {},
   "source": [
    "\n",
    "---\n",
    "*Notebook gerado em: 2025-09-12 13:35:41*\n"
   ]
  }
 ],
 "metadata": {
  "language_info": {
   "name": "python"
  }
 },
 "nbformat": 4,
 "nbformat_minor": 5
}
